{
  "nbformat": 4,
  "nbformat_minor": 0,
  "metadata": {
    "colab": {
      "provenance": [],
      "authorship_tag": "ABX9TyNNT9xxt0H7azNUWsG0Gl7F",
      "include_colab_link": true
    },
    "kernelspec": {
      "name": "python3",
      "display_name": "Python 3"
    },
    "language_info": {
      "name": "python"
    }
  },
  "cells": [
    {
      "cell_type": "markdown",
      "metadata": {
        "id": "view-in-github",
        "colab_type": "text"
      },
      "source": [
        "<a href=\"https://colab.research.google.com/github/tony-wade/Qiskit/blob/main/How%20to%20run%20Qiskit%20circuit/Lec0_How_to_run_Qiskit_circuit_(ver_1_2_0_).ipynb\" target=\"_parent\"><img src=\"https://colab.research.google.com/assets/colab-badge.svg\" alt=\"Open In Colab\"/></a>"
      ]
    },
    {
      "cell_type": "markdown",
      "source": [
        "## Author Information\n",
        "This code is provided by **Wade Wu**.\n",
        "\n",
        "For license information, please visit my [GitHub repository](https://github.com/tony-wade/Qiskit). Contributions and feedback are always welcome!\n"
      ],
      "metadata": {
        "id": "j74IMsRHyQ35"
      }
    },
    {
      "cell_type": "code",
      "execution_count": null,
      "metadata": {
        "collapsed": true,
        "id": "g4RL3l0_187S"
      },
      "outputs": [],
      "source": [
        "!pip install qiskit qiskit-aer\n",
        "!pip install qiskit-ibm-runtime\n",
        "!pip install pylatexenc  # 圖像用"
      ]
    },
    {
      "cell_type": "markdown",
      "source": [
        "## qiskit.primitives: 模擬 quantum circuit 理論輸出\n",
        "\n",
        "Estimator output info: https://github.com/Qiskit/RFCs/blob/master/0015-estimator-interface.md#arrays-and-broadcasting-"
      ],
      "metadata": {
        "id": "u_qvY7zW6xQx"
      }
    },
    {
      "cell_type": "code",
      "source": [
        "from qiskit.primitives import StatevectorSampler as Sampler\n",
        "from qiskit.primitives import StatevectorEstimator as Estimator\n",
        "from qiskit import QuantumCircuit\n",
        "from qiskit.circuit.library import RealAmplitudes\n",
        "from qiskit.quantum_info import SparsePauliOp, Pauli\n",
        "import time\n",
        "import numpy as np\n",
        "\n",
        "num = 12\n",
        "reps = 3\n",
        "\n",
        "# create two parameterized circuits\n",
        "pqc = RealAmplitudes(num_qubits=num, reps=2)\n",
        "pqc2 = RealAmplitudes(num_qubits=num, reps=reps)\n",
        "\n",
        "theta1 =  [i for i in range(num * 3)]\n",
        "theta2 = [i for i in range(num * (reps + 1))]\n",
        "\n",
        "\n",
        "sampler = Sampler()\n",
        "estimator = Estimator()\n",
        "\n",
        "\n",
        "print('Estimator')\n",
        "\n",
        "# estimator至少須提供一observable\n",
        "z_string = 'Z' * num\n",
        "all_z_observable = [SparsePauliOp(Pauli(z_string))]\n",
        "\n",
        "start_time1 = time.time()\n",
        "job = estimator.run([(pqc, all_z_observable, theta1), (pqc2, all_z_observable, theta2)]) # .run([pub1,pub2,...])\n",
        "esti_result1 = job.result()[0]    # 第一組\n",
        "\n",
        "print(esti_result1.data.evs)  # 即期望值輸出,另一者為標準差,詳見上方連結\n",
        "end_time1 = time.time()\n",
        "print(f'duration: {end_time1-start_time1}','\\n')\n",
        "\n",
        "\n",
        "print('Sampler')\n",
        "\n",
        "# sampler才能有measure\n",
        "pqc.measure_all()\n",
        "pqc2.measure_all()\n",
        "\n",
        "# 設定所求\n",
        "bitstring = '111111111111'\n",
        "\n",
        "start_time2 = time.time()\n",
        "job = sampler.run([(pqc, theta1), (pqc2, theta2)], shots=1000)\n",
        "samp_result1 = job.result()[0]\n",
        "count = samp_result1.data.meas.get_counts().get(bitstring, 0)\n",
        "\n",
        "print(f'count: {count}')\n",
        "print(samp_result1.data.meas.get_counts())\n",
        "print(samp_result1.data.meas.expectation_values(all_z_observable))  # 不同於當下取樣\n",
        "end_time2 = time.time()\n",
        "print(f'duration: {end_time2-start_time2}')"
      ],
      "metadata": {
        "id": "b7qO4qyo-24B",
        "colab": {
          "base_uri": "https://localhost:8080/"
        },
        "outputId": "b3b46005-4add-4413-d326-da818d7fad96"
      },
      "execution_count": null,
      "outputs": [
        {
          "output_type": "stream",
          "name": "stdout",
          "text": [
            "Estimator\n",
            "[-0.00596183]\n",
            "duration: 0.07545089721679688 \n",
            "\n",
            "Sampler\n",
            "count: 0\n",
            "{'101011000001': 1, '100001111000': 1, '100010001001': 2, '111101110111': 1, '101000000100': 3, '001100110010': 4, '111100010001': 2, '001101100000': 3, '111010010001': 2, '101001101001': 1, '001111011000': 5, '111000011000': 1, '111011111000': 1, '000101111010': 1, '110010000000': 3, '000000001010': 1, '000100001111': 1, '000100110100': 1, '100101001100': 1, '001101111000': 4, '100100011100': 1, '100011011010': 2, '111101001001': 2, '101000111010': 2, '111101011001': 3, '111010001000': 2, '001100111101': 2, '000001000010': 3, '011101011001': 1, '111101111101': 3, '001101110100': 7, '000010111000': 1, '001001011000': 4, '110101111100': 3, '000111101001': 2, '110100001011': 1, '110010011111': 1, '100111111001': 1, '110111000000': 5, '111100111010': 3, '101011010001': 2, '111101110101': 3, '101001111001': 1, '011101111101': 1, '000110110011': 1, '111110001110': 1, '000101111110': 1, '100100001100': 2, '000001011000': 3, '110110101010': 1, '001110001001': 3, '000001111010': 1, '111010011100': 3, '101101101000': 4, '111101000010': 1, '000101110010': 1, '011111000011': 1, '110010011000': 4, '110101100000': 2, '111110000000': 1, '100111101000': 1, '000111001001': 2, '110011111010': 1, '100101101000': 3, '001101011110': 2, '000111101000': 1, '000100111000': 1, '111001111100': 1, '011000001011': 1, '001111001011': 3, '111101110011': 4, '111111010010': 1, '100001111100': 1, '110110000001': 1, '001101010010': 2, '011010011010': 1, '111100000001': 2, '111101001000': 7, '110100001101': 2, '110110011010': 3, '001100111000': 2, '111010010010': 1, '000111010001': 1, '101111111000': 2, '110000001001': 2, '101101110100': 1, '111100100010': 1, '111110100000': 1, '101010100100': 1, '110110000100': 1, '001100000100': 2, '100110011111': 1, '000100001011': 2, '001001001000': 5, '000101111111': 1, '110101111010': 3, '110101101001': 1, '000000000001': 1, '111001111000': 3, '101001110100': 2, '110101010100': 1, '110101011000': 5, '111100101001': 1, '100000000110': 1, '110101111000': 5, '000101001110': 1, '011010011101': 1, '111000011100': 1, '111111000001': 1, '111101111000': 2, '001101111100': 3, '101101010010': 1, '110101001000': 2, '010101110100': 1, '000011011101': 1, '001000001101': 1, '010001010111': 1, '110011110101': 2, '011010001101': 1, '001110011010': 2, '110110110110': 1, '110011111000': 1, '100000001111': 1, '000000111010': 1, '111001111101': 1, '100001110111': 1, '000111011010': 1, '001111010100': 2, '100000111000': 1, '101000010001': 1, '001000000100': 1, '111000000100': 2, '111010011000': 3, '101001011001': 3, '111101111100': 1, '110100111000': 2, '111101110100': 6, '110101000100': 1, '001011010010': 1, '110011101000': 2, '111101010101': 2, '111001110010': 1, '111101011000': 10, '110111100101': 1, '010100011000': 1, '110100111101': 2, '101011011111': 2, '111100111000': 4, '100000111010': 2, '110110100000': 3, '101110001000': 1, '101101001110': 1, '001111111001': 1, '000100011010': 1, '001101011000': 8, '101101011000': 1, '001111011010': 2, '111011011000': 1, '111010001100': 4, '000111011000': 3, '110011110111': 2, '001101100101': 1, '001101110010': 5, '000101110101': 1, '001100001100': 2, '001101100110': 1, '111101011101': 2, '111010010100': 2, '100000010100': 2, '110101101000': 2, '111101100000': 4, '001001111000': 1, '100001001101': 1, '110100011100': 2, '000100111101': 1, '101010100000': 1, '101001011111': 2, '100101011000': 2, '011011000000': 1, '000101011000': 4, '110010010100': 6, '111111010111': 1, '101111011010': 2, '000111000000': 3, '111101101100': 2, '110110101001': 1, '001100010110': 2, '000101110100': 1, '011101001000': 1, '001111010011': 1, '111010010101': 3, '110011110010': 2, '111011010010': 1, '000110010100': 4, '001011110100': 1, '111011011010': 2, '111010000000': 2, '000101101000': 3, '110010011101': 1, '100001111010': 5, '110000010101': 2, '001110011101': 2, '110110001001': 2, '100110000110': 1, '010110101111': 1, '101001110011': 1, '001001111010': 3, '110000010010': 1, '000110001011': 2, '100011010010': 1, '001101011101': 1, '111011011100': 2, '101101001000': 3, '111101101001': 1, '110110111100': 1, '111101110001': 1, '010101110010': 1, '110011000100': 2, '011011011000': 1, '100001011001': 1, '010101110101': 1, '011101011010': 1, '000110111011': 2, '100111000100': 2, '100011101000': 1, '110111001011': 1, '101011011101': 1, '110110101100': 1, '000101101001': 1, '001101101000': 4, '001111011100': 5, '110101110100': 3, '111111011101': 2, '111101111111': 2, '110101011001': 2, '111010011010': 1, '110000000000': 2, '101010001001': 1, '001110000000': 2, '111000001101': 1, '111110101001': 1, '001000111001': 2, '110011001111': 1, '101101111010': 1, '001001101100': 1, '111100110010': 1, '101010111010': 1, '000001110101': 1, '100010110101': 2, '111001101001': 1, '101101011001': 2, '001110010010': 1, '110101110010': 1, '110101111110': 1, '111001101000': 1, '110111011000': 2, '001100001101': 1, '000111000100': 1, '110110110010': 1, '000001011111': 1, '001100110100': 4, '110001000001': 1, '001110010101': 2, '000110010101': 1, '111101010010': 2, '101111111001': 1, '110010011010': 2, '111111011010': 2, '111000011010': 2, '000101100000': 2, '000111100010': 1, '101000111000': 4, '000101111000': 3, '101001010010': 2, '101000101000': 2, '001101101100': 2, '101001010100': 1, '101001011000': 2, '100110000101': 1, '001000101000': 1, '110001010010': 1, '100000000111': 1, '001001110011': 1, '001000110101': 1, '000100000000': 2, '111101100100': 1, '111101001010': 2, '111000010100': 2, '110010000001': 2, '000111011100': 2, '101110011001': 1, '001100100000': 1, '000111111000': 1, '100111011101': 1, '001011110001': 1, '101001001001': 1, '101101010100': 1, '100000001010': 1, '111111101100': 1, '100010111100': 2, '110111011100': 1, '011010010111': 1, '100010011010': 2, '101000000011': 1, '110100010100': 1, '001110111010': 1, '111011000100': 1, '111000010101': 1, '111111011000': 4, '111000010011': 1, '111101111010': 1, '110100011000': 1, '100001110011': 2, '100101000100': 1, '100001101001': 2, '111000000000': 3, '111111010100': 1, '000110000001': 2, '100101110100': 1, '111110111011': 1, '110110000110': 1, '000000111000': 1, '100000000000': 2, '001101101001': 1, '011101101000': 1, '100110011000': 2, '101111001000': 2, '110000001101': 1, '000100101001': 1, '011100000100': 1, '000010001101': 1, '000111111111': 1, '101111001001': 1, '100011000000': 1, '100010010011': 1, '011001110100': 1, '101101001010': 2, '110000010100': 1, '011111011000': 1, '001101001111': 1, '100111111010': 1, '001001110010': 1, '100001100000': 2, '110100000100': 3, '010101101000': 1, '001111011001': 1, '100110100100': 1, '101101111101': 1, '011110100000': 1, '001111001001': 2, '101011010011': 1, '100010100000': 1, '111101110010': 2, '100001111110': 1, '101011011100': 1, '001001101000': 1, '011110111010': 1, '101000111110': 1, '000111001100': 1, '001100101110': 1, '111101011010': 1, '000011001000': 1, '001110001110': 1, '111100001101': 3, '110110011110': 1, '110010001100': 1, '100000011010': 1, '111100000000': 1, '001101111010': 1, '001000101100': 2, '101001111010': 2, '100111111000': 3, '110101000010': 1, '101000001111': 1, '111011111110': 1, '111101101101': 1, '111110011000': 1, '100110000001': 1, '011000011100': 1, '101001111000': 1, '110110010011': 1, '000001001000': 2, '100111101001': 2, '011101111111': 1, '001100001011': 1, '110110100001': 1, '111011010011': 1, '100001111101': 1, '000001010100': 1, '001000011100': 1, '100000101011': 1, '100111010100': 1, '100011011101': 1, '001101001000': 2, '111001010000': 1, '110111010010': 1, '100101111001': 1, '101010011000': 1, '101011011001': 1, '001010101000': 1, '100011011111': 2, '111010001001': 2, '100001011000': 1, '111000000001': 1, '110110000000': 1, '111111001001': 1, '000110011100': 2, '111100111101': 1, '101010100001': 1, '010110011000': 1, '100000001001': 1, '110101110101': 1, '111101011110': 2, '011100001010': 1, '011101111010': 1, '110001001101': 1, '001110011100': 1, '100001001010': 3, '000100011101': 1, '110010010010': 2, '100111011010': 1, '100000000101': 1, '111011000001': 1, '000110100100': 1, '100010110011': 1, '100001110100': 2, '110101111101': 2, '001000001010': 1, '001101110001': 1, '001101110101': 1, '001000110010': 1, '010100000110': 1, '000111101110': 1, '001111011110': 2, '111000011110': 1, '010101001000': 1, '100110010100': 3, '001010110010': 1, '100000001100': 1, '100001011011': 1, '110101110001': 1, '000001111101': 1, '111100001010': 1, '011110100100': 1, '011101110101': 1, '111100000011': 2, '110100001111': 1, '101001101000': 2, '010111101001': 1, '101100011010': 1, '100010011000': 2, '111100011100': 3, '111100001111': 1, '000001011001': 1, '101110010010': 1, '111001110101': 1, '101011011000': 2, '111111101010': 1, '001101011001': 1, '110101000111': 1, '001111011101': 1, '001111001110': 1, '100000111001': 2, '000110011000': 2, '111111100001': 2, '100001100110': 1, '110011001101': 1, '110111001100': 1, '101101101001': 1, '101000111001': 2, '101001111100': 1, '101100111000': 1, '000001101011': 1, '001100011010': 1, '001111000100': 3, '011101110010': 1, '000100001101': 1, '000111011101': 1, '100010101001': 1, '111101111001': 1, '000111001110': 1, '110110001100': 1, '001110001011': 1, '101111000001': 1, '010111011000': 1, '100110000100': 1, '011100101001': 1, '100001101000': 1, '111111011001': 1, '111101100001': 1, '001101010100': 1, '001100010100': 1, '111010101000': 1, '011010010100': 1, '001000101110': 1, '110011100010': 1, '100010100100': 1, '100110000000': 1, '011001001011': 1, '100001011110': 1, '111001100001': 1, '100000110100': 2, '110100011101': 1, '101101101101': 1, '110111001010': 1, '110100110100': 2, '110100000101': 1, '001101100001': 1, '101111001101': 1, '001110110111': 1, '101000011111': 1, '110101110111': 1, '000100011100': 2, '100000111111': 1, '001101011010': 1, '000111010100': 1, '001000111110': 1, '111010110100': 3, '101000011001': 1, '101101110010': 2, '110011011101': 1, '101100011100': 1, '100000011100': 1, '001011011110': 1, '100101101001': 1, '101111000000': 2, '001100111010': 1, '111011000000': 3, '110100110010': 1, '101100011101': 1, '001110110010': 1, '101000011101': 1, '110111000001': 1, '110010011100': 1, '100000110010': 1, '101001101100': 1, '111011101000': 1, '111100001011': 1, '000001110011': 2, '000110001000': 1, '110101010000': 1, '011101110100': 2, '000110000100': 1, '111101000100': 2, '000101001010': 1, '101011010100': 1, '101011100101': 1, '110100000000': 1, '000110011010': 1, '101101000010': 1, '100011000001': 1, '110100110011': 1, '100011001100': 1, '111111110101': 1, '100011011100': 2, '101001100000': 1, '000110011101': 2, '001100011100': 1, '001100000001': 1, '101010110011': 1, '010111100010': 1, '011010101011': 1, '101010111110': 1, '011011010000': 1, '101110010001': 1, '110101100100': 1, '011110101101': 1, '110101101011': 1, '001100000000': 1, '001110011001': 2, '000110101101': 1, '100111011000': 1, '110110010100': 1, '100001110010': 2, '100110000011': 1, '100000101000': 1, '100111110101': 1, '110010110011': 1, '000101110011': 1, '101011000000': 1, '110100000011': 1, '001111100010': 1, '101110000011': 1, '111101101000': 2, '011101101001': 1, '111010011111': 1, '011100101011': 1, '101000001010': 1, '100110011010': 1, '100100001111': 1, '011110000001': 1, '101001011010': 1, '101001001000': 2, '100101000010': 1, '011000000000': 1, '100000011110': 1, '101100001100': 1, '001100000101': 2, '101101000101': 1, '101100000100': 1, '101000101001': 1, '111011010100': 1, '001111010000': 1, '100000011111': 1, '011111011010': 1, '000110001001': 2, '111011000110': 1, '010111010010': 1, '001101001001': 1, '001001010010': 1, '101010111000': 1, '011111011100': 1, '010111101000': 1, '111001010001': 1, '010110101100': 1, '101000001100': 1, '110101001010': 1, '110111010001': 1, '111000001100': 1, '000110111100': 1, '110111010101': 1, '101000000001': 1, '111110101000': 1, '000011000010': 1, '101111101110': 1, '101010110100': 2, '001101101101': 1, '011010000000': 1, '110000001100': 1, '111111001000': 1, '111100100100': 1, '101101011010': 1, '001111010010': 1, '101000110101': 1, '110000011100': 1, '100011011110': 1, '000110000000': 2, '000101010101': 1, '110101101110': 1, '000101000111': 1, '000110001101': 1, '101000010000': 1, '111101101110': 1, '001111100001': 1, '101111001011': 1, '111010001110': 1, '101011001000': 1, '111100111001': 1, '110111111110': 1, '010100000000': 1, '010100001100': 1, '000010111101': 1, '111000111000': 1, '111100000100': 2, '101110011010': 1, '001000111000': 1, '001001011010': 1, '100001101011': 1, '110111110000': 1, '101011010101': 1, '110100100101': 1, '011000001100': 1, '101000000101': 1, '011111000000': 1, '100110010101': 1, '101100000000': 1, '001011110011': 1, '001111111000': 1, '110110011001': 1, '011100110101': 1, '100001110101': 1, '100101011010': 1}\n",
            "[-0.018]\n",
            "duration: 0.37239670753479004\n"
          ]
        }
      ]
    },
    {
      "cell_type": "markdown",
      "source": [
        "## qiskit_ibm_runtime: 使用/模擬QPU"
      ],
      "metadata": {
        "id": "DSXXrtPB6Xrg"
      }
    },
    {
      "cell_type": "markdown",
      "source": [
        " **Qiskit Runtime execution modes**\n",
        "\n",
        "\n",
        "*   Job:  單一程序/request\n",
        "*   Session: 連貫Jobs, 免除多次隊列, 能用量子/傳統複合電路，**適用於訓練參數化電路**, open-plan使用會被降轉為多個Job...\n",
        "*    Batch: 平行Jobs, 免除多次隊列, 但job之間的先後順序沒有被保證\n",
        "\n"
      ],
      "metadata": {
        "id": "sswsb1qQo-NJ"
      }
    },
    {
      "cell_type": "code",
      "source": [
        "from qiskit_ibm_runtime import QiskitRuntimeService, Session\n",
        "from qiskit.transpiler.preset_passmanagers import generate_preset_pass_manager\n",
        "from qiskit.circuit.library import RealAmplitudes\n",
        "from qiskit.quantum_info import SparsePauliOp, Pauli\n",
        "from qiskit.visualization import plot_histogram\n",
        "import random\n",
        "\n",
        "# Load account, set to default\n",
        "QiskitRuntimeService.save_account(channel=\"ibm_quantum\", token=\"285d4c19f2991a9761a2d38a63625cb83d5bba0ab72b9f5d8dc76e18e8ecd2845a96fcc3b6987a0d2ae4b509d8cdd6a575965395896a5c12c449068f185dc765\",\n",
        "                                  overwrite=True, set_as_default=True)"
      ],
      "metadata": {
        "id": "b3PVUClj8XnK"
      },
      "execution_count": null,
      "outputs": []
    },
    {
      "cell_type": "markdown",
      "source": [
        "###  將circuit送到QPU實際運算\n",
        "\n",
        "**SO FAST**"
      ],
      "metadata": {
        "id": "EitJo92sgo8p"
      }
    },
    {
      "cell_type": "code",
      "source": [
        "num = 32\n",
        "reps = 3\n",
        "\n",
        "# Circuit and parameters\n",
        "pqc = RealAmplitudes(num_qubits=num, reps=reps)\n",
        "theta = [random.randint(1, 10) for _ in range(num * (reps + 1))]"
      ],
      "metadata": {
        "id": "RNCn5utPgecn"
      },
      "execution_count": null,
      "outputs": []
    },
    {
      "cell_type": "code",
      "source": [
        "from qiskit_ibm_runtime import EstimatorV2 as Estimator\n",
        "\n",
        "service = QiskitRuntimeService()\n",
        "backend = service.least_busy(min_num_qubits=32)   # Choose the least busy one\n",
        "\n",
        "\n",
        "# Create observable\n",
        "z_string = 'Z' * num\n",
        "coefficients = [1.0]  # Coefficient for the full-Z operator\n",
        "all_z_observable = SparsePauliOp.from_list([(z_string, coefficients[0])])\n",
        "\n",
        "# transpile to fit in ibm hardware\n",
        "pm = generate_preset_pass_manager(backend=backend, optimization_level=0)\n",
        "isa_pqc = pm.run(pqc)\n",
        "observable = all_z_observable.apply_layout(isa_pqc.layout)\n",
        "\n",
        "estimator = Estimator(mode=backend)\n",
        "job = estimator.run([(isa_pqc, observable, theta)])\n",
        "\n",
        "# 花了9min,但實際只需15s(by backend)\n",
        "pub_result = job.result()[0]\n",
        "print(f\"Expectation values: {pub_result.data.evs}\")"
      ],
      "metadata": {
        "id": "mViFGq5bJCLp",
        "colab": {
          "base_uri": "https://localhost:8080/"
        },
        "outputId": "c3e54943-51e5-47b4-db58-5bcd55b25527"
      },
      "execution_count": null,
      "outputs": [
        {
          "output_type": "stream",
          "name": "stdout",
          "text": [
            "Expectation values: -0.00439453125\n"
          ]
        }
      ]
    },
    {
      "cell_type": "code",
      "source": [
        "from qiskit_ibm_runtime import SamplerV2 as Sampler\n",
        "\n",
        "service = QiskitRuntimeService()\n",
        "backend = service.least_busy(min_num_qubits=32)\n",
        "\n",
        "# Sampler need measurement\n",
        "pqc.measure_all()\n",
        "\n",
        "# transpile to fit in ibm hardware\n",
        "pm = generate_preset_pass_manager(backend=backend, optimization_level=0)\n",
        "isa_pqc = pm.run(pqc)\n",
        "\n",
        "sampler = Sampler(mode=backend)\n",
        "job2 = sampler.run([(isa_pqc, theta)], shots=100)\n",
        "\n",
        "# 等了24min,實際用了4秒(100shots)\n",
        "print(job2.result()[0].data.meas.get_counts())"
      ],
      "metadata": {
        "colab": {
          "base_uri": "https://localhost:8080/"
        },
        "id": "mharxh2g0Mcy",
        "outputId": "1254d43f-2025-471b-8faa-cc0ef9dbf75a"
      },
      "execution_count": null,
      "outputs": [
        {
          "output_type": "stream",
          "name": "stdout",
          "text": [
            "{'00011001000001001011010011011010': 1, '11011011101000101111111111100111': 1, '11111010101010000100010111101011': 1, '11111111101111000001110110111011': 1, '11101001100000000001011100100101': 1, '00111011011010001111101111100100': 1, '01010001110010010100001010001110': 1, '11010001101000100001010000001011': 1, '00000011011010001111001111100010': 1, '01001110110100000000000100110010': 1, '11010111010001111111111000000011': 1, '10000111010100111011110100101100': 1, '11110110000010110001101111100101': 1, '01101010100110000010101111101101': 1, '01110100111010111000110101110111': 1, '11000000000100001011101101110011': 1, '11100110111010001000000001010010': 1, '10011011011110011000110001011010': 1, '11010011000010110000110001011001': 1, '11010011000111011110111110111001': 1, '01111000000001011101100101101010': 1, '10011111101100011011010101100010': 1, '10001111111101010110000110011110': 1, '10000011000010011110100000110010': 1, '10000001100110110010010111101000': 1, '11101000010010011100100111001011': 1, '10100010101110110010101111010000': 1, '11111000110101000001111111101100': 1, '10100111101001111000101100011100': 1, '10000110001110000101001110111111': 1, '01010110101011110101100101110101': 1, '11010000111010010110110111101111': 1, '01101110010011110110000010010011': 1, '00101001101000010111000011010100': 1, '11010011000110010110001101110000': 1, '01011001100111010010011100001110': 1, '00100011000111001110011011111001': 1, '11001011101110011000111000110110': 1, '10111010010011001001010100000101': 1, '10101111001111010100111011010101': 1, '11010101000010100000000001101110': 1, '01011000110101111011011010010000': 1, '10010100100010010110100110000100': 1, '11011100101111000101000001001010': 1, '10000001000111001011001010111100': 1, '11111000100000100110111001011100': 1, '01011010000100111001001010001000': 1, '01101011000101010111101010101101': 1, '10000011110010100010101101010111': 1, '01100111010110111100111000111110': 1, '01000000111110111110100011011110': 1, '00000101111101110010110001010011': 1, '00100101011011111100101010001110': 1, '01110010011101111110100010111000': 1, '11011101001111110010100011001100': 1, '10101011111110000011110111101100': 1, '11100000110000001101101101010110': 1, '01111101001110111000010101000111': 1, '11101000010011001000111001011000': 1, '10011100000001101100000110000101': 1, '00011001001100111110100001111000': 1, '00010001001110101001101101011000': 1, '00110010100010111011011010010100': 1, '00100011110101001000011010001000': 1, '10000110100011000101101000000100': 1, '01010011101000111001110101111110': 1, '10110001010011101101011000011101': 1, '00011000101010010010101011111111': 1, '10010101000000110001001101100000': 1, '01101001100111010101101000010101': 1, '10100001111000010001111010110101': 1, '10011000110100000000010110110100': 1, '00011001010110011100101111001111': 1, '10111001111111101010010101101110': 1, '10001101011100000110001111100010': 1, '10110101100001001101110101111010': 1, '11001110010100101001001110011010': 1, '00111000001101111011100101101000': 1, '01111000010100110100110101101101': 1, '01111110111110111101010000000111': 1, '11011101011100011010101111111010': 1, '01010000100110000001001101010010': 1, '00100111101000100100000011011000': 1, '10010010100110100010010110010010': 1, '11001101100000101101111010010100': 1, '11001101100001110100100010001110': 1, '10101010101010000010101101001000': 1, '00000101101111000001111111110110': 1, '00110000110100000010000110000100': 1, '10001000100001100011000010001100': 1, '00101001011000100110011010000101': 1, '11011001101110110110111100100110': 1, '01101111001011001010100001100011': 1, '11100000101110100001110101010010': 1, '10100000110110101110100110000010': 1, '10011110001110110111110101100000': 1, '10110000101100111001111111100111': 1, '00001101001101101101011101101111': 1, '01101101011011101001110001010100': 1, '01010110000010110101011101111000': 1}\n"
          ]
        }
      ]
    },
    {
      "cell_type": "code",
      "source": [
        "# Create observable\n",
        "z_string = 'Z' * num\n",
        "coefficients = [1.0]  # Coefficient for the full-Z operator\n",
        "all_z_observable = SparsePauliOp.from_list([(z_string, coefficients[0])])\n",
        "\n",
        "print(job2.result()[0].data.meas.expectation_values(all_z_observable))  # sampler期望值"
      ],
      "metadata": {
        "colab": {
          "base_uri": "https://localhost:8080/"
        },
        "id": "YRCQjwl2NK7f",
        "outputId": "91521a95-cfb3-4ff1-e1b5-7e7ce5f7ecb8"
      },
      "execution_count": null,
      "outputs": [
        {
          "output_type": "stream",
          "name": "stdout",
          "text": [
            "0.08\n"
          ]
        }
      ]
    },
    {
      "cell_type": "markdown",
      "source": [
        "### 在個人電腦模擬QPU真實環境\n",
        "\n",
        "Compare to StatevectorEstimator, AerSimulator do a better job on large circuit.\n"
      ],
      "metadata": {
        "id": "mRA9PTolgBwf"
      }
    },
    {
      "cell_type": "markdown",
      "source": [
        "詳細情況:\n",
        "\n",
        "Set 32 qubits, RealAmplitudes circuit with scipy (simillar to the example below)\n",
        "\n",
        "\n",
        "*   AerSimulator: roughly 3.5 min and  70GB RAM for 1 iter\n",
        "*   StatevectorEstimator:  **Failed to execute**\n",
        "\n",
        "\n",
        "\n"
      ],
      "metadata": {
        "id": "msg1fDIYHPVI"
      }
    },
    {
      "cell_type": "code",
      "source": [
        "from qiskit_ibm_runtime.fake_provider import FakeBogotaV2   # 這系列的似乎都跑很慢\n",
        "from qiskit_aer import AerSimulator\n",
        "from qiskit_ibm_runtime  import EstimatorV2 as Estimator\n",
        "\n",
        "backend = FakeBogotaV2()  # 5 qubits only\n",
        "backend2 = AerSimulator()\n",
        "\n",
        "num = 4\n",
        "reps = 3\n",
        "\n",
        "# Circuit and parameters\n",
        "pqc = RealAmplitudes(num_qubits=num, reps=reps)\n",
        "theta = [random.randint(1, 10) for _ in range(num * (reps + 1))]\n",
        "\n",
        "hamiltonian = SparsePauliOp.from_list([(\"Z\" * num, 1)])\n",
        "\n",
        "# Transpile to a circuit that can be directly executed by the backend\n",
        "pm = generate_preset_pass_manager(backend=backend2, optimization_level=0)\n",
        "isa_pqc = pm.run(pqc)\n",
        "observable = hamiltonian.apply_layout(isa_pqc.layout)\n",
        "isa_pqc.draw('mpl', idle_wires=False, fold=-1)"
      ],
      "metadata": {
        "colab": {
          "base_uri": "https://localhost:8080/",
          "height": 320
        },
        "id": "gWFslEWPbUYe",
        "outputId": "20202540-0cc3-4242-f214-25bd1e90dc71"
      },
      "execution_count": null,
      "outputs": [
        {
          "output_type": "execute_result",
          "data": {
            "text/plain": [
              "<Figure size 1040x367.889 with 1 Axes>"
            ],
            "image/png": "[encoded data removed]"
          },
          "metadata": {},
          "execution_count": 15
        }
      ]
    },
    {
      "cell_type": "code",
      "source": [
        "from scipy.optimize import minimize\n",
        "\n",
        "def cost_func(params, ansatz, hamiltonian, estimator):\n",
        "    return estimator.run([(ansatz, hamiltonian, theta)]).result()[0].data.evs\n",
        "\n",
        "with Session(backend=backend2) as session:\n",
        "    estimator = Estimator(mode=session)\n",
        "    res = minimize(cost_func, theta, args=(isa_pqc, observable, estimator), method=\"COBYLA\", options={\"maxiter\": 2})\n",
        "    print(res) # success是指收斂成功與否\n",
        "\n",
        "\n",
        "session.close()"
      ],
      "metadata": {
        "id": "2SSWtWcBcot_",
        "colab": {
          "base_uri": "https://localhost:8080/"
        },
        "outputId": "c66f56eb-7ac4-4294-eae6-7c1389da3b87"
      },
      "execution_count": null,
      "outputs": [
        {
          "output_type": "stream",
          "name": "stdout",
          "text": [
            " message: Maximum number of function evaluations has been exceeded.\n",
            " success: False\n",
            "  status: 2\n",
            "     fun: 0.005859375\n",
            "       x: [ 3.000e+00  3.000e+00 ...  3.000e+00  6.000e+00]\n",
            "    nfev: 2\n",
            "   maxcv: 0.0\n"
          ]
        }
      ]
    }
  ]
}
