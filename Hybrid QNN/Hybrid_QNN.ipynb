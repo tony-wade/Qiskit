{
  "nbformat": 4,
  "nbformat_minor": 0,
  "metadata": {
    "colab": {
      "provenance": [],
      "gpuType": "T4",
      "authorship_tag": "ABX9TyOvALx1q4CKajVjG1i5iyU0",
      "include_colab_link": true
    },
    "kernelspec": {
      "name": "python3",
      "display_name": "Python 3"
    },
    "language_info": {
      "name": "python"
    },
    "accelerator": "GPU"
  },
  "cells": [
    {
      "cell_type": "markdown",
      "metadata": {
        "id": "view-in-github",
        "colab_type": "text"
      },
      "source": [
        "<a href=\"https://colab.research.google.com/github/tony-wade/Qiskit/blob/main/Hybrid%20QNN/Hybrid_QNN.ipynb\" target=\"_parent\"><img src=\"https://colab.research.google.com/assets/colab-badge.svg\" alt=\"Open In Colab\"/></a>"
      ]
    },
    {
      "cell_type": "markdown",
      "source": [
        "Qiskit僅提供基礎0、1的圖案判別，這次想試試若拓展到0至9後的模型辨識結果。另外考量自身算力後決定試做FSL。"
      ],
      "metadata": {
        "id": "v6D6KDeVvqjJ"
      }
    },
    {
      "cell_type": "markdown",
      "source": [],
      "metadata": {
        "id": "EoQjqUUJ219N"
      }
    },
    {
      "cell_type": "code",
      "execution_count": null,
      "metadata": {
        "id": "dXAVD-p-lmes"
      },
      "outputs": [],
      "source": [
        "import os\n",
        "import numpy as np\n",
        "from PIL import Image,ImageOps\n",
        "import matplotlib.pyplot as plt\n",
        "from torch import Tensor\n",
        "from torch.nn import Linear, CrossEntropyLoss, MSELoss\n",
        "import torch\n",
        "from torch import no_grad\n",
        "from torch.utils.data import DataLoader, Dataset, ConcatDataset\n",
        "from torchvision import datasets, transforms\n",
        "import torch.optim as optim\n",
        "import torch.nn.functional as F\n",
        "from torch.nn import (\n",
        "    Module,\n",
        "    Conv2d,\n",
        "    Linear,\n",
        "    Dropout2d,\n",
        "    MaxPool2d,\n",
        "    Flatten,\n",
        "    Sequential,\n",
        "    ReLU,\n",
        ")\n",
        "#!pip install qiskit\n",
        "!pip install qiskit-machine-learning\n",
        "from qiskit import QuantumCircuit\n",
        "from qiskit.utils import algorithm_globals\n",
        "from qiskit.circuit import Parameter\n",
        "from qiskit.circuit.library import RealAmplitudes, EfficientSU2\n",
        "from qiskit_machine_learning.neural_networks import SamplerQNN\n",
        "from qiskit_machine_learning.connectors import TorchConnector\n",
        "import random\n",
        "\n",
        "device = torch.device('cuda') if torch.cuda.is_available() else torch.device('cpu')"
      ]
    },
    {
      "cell_type": "code",
      "source": [
        "# 定義圖像變換\n",
        "transform = transforms.Compose([\n",
        "    transforms.RandomRotation(10),\n",
        "    transforms.RandomAffine(0, (0.1,0.1)),  # 随機平移最多10%的寬/高\n",
        "    transforms.RandomResizedCrop(size=(28, 28), scale=(0.85, 1.0)),\n",
        "    transforms.ToTensor(),\n",
        "    transforms.Normalize((0.5,), (0.5,))\n",
        "])\n",
        "\n",
        "\n",
        "class CustomMNISTDataset(Dataset):\n",
        "    def __init__(self, root_dir, transform=None):\n",
        "        self.root_dir = root_dir\n",
        "        self.transform = transform\n",
        "        self.image_files = [f for f in os.listdir(root_dir) if f.endswith(\".jpg\")]\n",
        "\n",
        "    def __len__(self):\n",
        "        return len(self.image_files)\n",
        "\n",
        "    def __getitem__(self, idx):\n",
        "        img_name = os.path.join(self.root_dir, self.image_files[idx])\n",
        "        img = Image.open(img_name).convert('L')  # 轉成黑白\n",
        "        image = ImageOps.invert(img)\n",
        "        label = int(self.image_files[idx].split('.')[0])  # 文件名=tag\n",
        "\n",
        "        if self.transform:\n",
        "            image = self.transform(image)\n",
        "\n",
        "        return image, label"
      ],
      "metadata": {
        "id": "oxJZGEsH96Kj"
      },
      "execution_count": null,
      "outputs": []
    },
    {
      "cell_type": "code",
      "source": [
        "# Training dataset\n",
        "# -----------------------\n",
        "# 設定批次大小、每類樣本數、數據增強之增生倍率\n",
        "batch_size = 10\n",
        "n_samples = 10\n",
        "num_copies = 10\n",
        "\n",
        "# 使用torchvision函數載入MNIST訓練數據，28*28\n",
        "transform = transforms.Compose([transforms.ToTensor(), transforms.Normalize((0.5,), (0.5,))])\n",
        "X_train = datasets.MNIST(root='./data', train=True, transform=transform, download=True)\n",
        "\n",
        "# 選取每個數字類別的n_samples個樣本\n",
        "idx = []\n",
        "for digit in range(10):\n",
        "    digit_indices = np.where(X_train.targets == digit)[0]\n",
        "    selected_indices = random.sample(digit_indices.tolist(), n_samples)\n",
        "    idx.extend(selected_indices)\n",
        "\n",
        "X_train.data = X_train.data[idx]\n",
        "X_train.targets = X_train.targets[idx]\n",
        "\n",
        "# 載入自己的手寫圖案共10張，並做數據增強\n",
        "custom_dataset = CustomMNISTDataset('./selfmnist', transform=transform)\n",
        "expanded_datasets = [custom_dataset] * num_copies\n",
        "\n",
        "# 合併dataset\n",
        "expanded_datasets.append(X_train)\n",
        "expanded_dataset = ConcatDataset(expanded_datasets)\n",
        "\n",
        "# 定義dataloader\n",
        "train_loader = DataLoader(expanded_dataset, batch_size=batch_size, shuffle=True)\n",
        "\n",
        "\n",
        "\n",
        "\n",
        "# Test dataset\n",
        "# --------------------\n",
        "# 測試集筆數\n",
        "n_tests = 50\n",
        "\n",
        "# 載入MNIST測試數據\n",
        "X_test = datasets.MNIST(\n",
        "    root=\"./data\", train=False, download=True, transform=transforms.Compose([transforms.ToTensor(), transforms.Normalize((0.5,), (0.5,))])\n",
        ")\n",
        "\n",
        "# 選取每個數字類別的前n_tests個樣本\n",
        "idx2 = []\n",
        "for digit in range(10):\n",
        "    idx2.extend(np.where(X_test.targets == digit)[0][:n_tests])\n",
        "X_test.data = X_test.data[idx2]\n",
        "X_test.targets = X_test.targets[idx2]\n",
        "\n",
        "# 定義dataloader\n",
        "test_loader = DataLoader(X_test, batch_size=batch_size, shuffle=True)\n"
      ],
      "metadata": {
        "id": "fP7GBdAha8-N"
      },
      "execution_count": null,
      "outputs": []
    },
    {
      "cell_type": "code",
      "source": [
        "n_samples_show = 6\n",
        "\n",
        "data_iter = iter(train_loader) #轉成疊代器\n",
        "fig, axes = plt.subplots(1, n_samples_show, figsize=(10, 3)) #控制子圖以[1,n]方式呈現\n",
        "\n",
        "for ax in axes:\n",
        "    images, targets = next(data_iter) #逐個讀取\n",
        "    ax.imshow(images[0, 0].numpy().squeeze(), cmap=\"gray\")\n",
        "    ax.set_xticks([]) #刻度不顯示\n",
        "    ax.set_yticks([])\n",
        "    ax.set_title(\"Labeled: {}\".format(targets[0].item()))"
      ],
      "metadata": {
        "id": "MWQcxZvUejU6",
        "colab": {
          "base_uri": "https://localhost:8080/",
          "height": 170
        },
        "outputId": "45ac4332-15e7-4330-cef1-1b72df07ebb5"
      },
      "execution_count": null,
      "outputs": [
        {
          "output_type": "display_data",
          "data": {
            "text/plain": [
              "<Figure size 1000x300 with 6 Axes>"
            ],
            "image/png": "[encoded data removed]"
          },
          "metadata": {}
        }
      ]
    },
    {
      "cell_type": "code",
      "source": [
        "# 取最少須10個states, 取4qubits共2^4個states\n",
        "def create_qnn():\n",
        "    feature_map = EfficientSU2(4,reps=1)\n",
        "    ansatz = RealAmplitudes(4, reps=1, parameter_prefix='A')\n",
        "    qc = QuantumCircuit(4)\n",
        "    qc.compose(feature_map, inplace=True) # 開啟可調參數\n",
        "    qc.compose(ansatz, inplace=True)\n",
        "\n",
        "\n",
        "    qnn = SamplerQNN(\n",
        "        circuit = qc,\n",
        "        input_params = feature_map.parameters,\n",
        "        weight_params = ansatz.parameters,\n",
        "        input_gradients = True,  # 要連接倒傳遞\n",
        "    )\n",
        "    return qnn\n",
        "\n",
        "QNN = create_qnn()"
      ],
      "metadata": {
        "id": "UlINacKJekBS"
      },
      "execution_count": null,
      "outputs": []
    },
    {
      "cell_type": "code",
      "source": [
        "class Net(Module):\n",
        "    def __init__(self, qnn):\n",
        "        super().__init__()\n",
        "        self.conv1 = Conv2d(1, 2, kernel_size=5)  # 每5*5轉成1*1的Convolution Layer\n",
        "        self.conv2 = Conv2d(2, 16, kernel_size=5)\n",
        "        self.dropout = Dropout2d()   # 隨機丟失神經元避免overfitting\n",
        "        self.fc1 = Linear(256, 16)\n",
        "        # self.fc2 = Linear(64, 16)\n",
        "        self.qnn = TorchConnector(qnn) # 沒指定,隨機權重in[-1,1].\n",
        "        self.fc3 = Linear(16, 10)\n",
        "\n",
        "    def forward(self, x):\n",
        "        x = F.relu(self.conv1(x))  # width=28-5+1=24\n",
        "        x = F.max_pool2d(x, 2)   # 分割成2*2小區域，輸出4者中的最大值，抗雜\n",
        "        x = F.relu(self.conv2(x))  # 12-5+1\n",
        "        x = F.max_pool2d(x, 2)   # 萃取後 width=4\n",
        "        x = self.dropout(x)     # 16個4*4的圖\n",
        "        x = x.view(x.shape[0], -1)\n",
        "        x = F.relu(self.fc1(x))\n",
        "        # x = self.fc2(x)\n",
        "        x = self.qnn(x)\n",
        "        x = self.fc3(x)\n",
        "        return x\n",
        "\n",
        "\n",
        "model = Net(QNN).to(device)"
      ],
      "metadata": {
        "id": "lj1KF4SBepj4"
      },
      "execution_count": null,
      "outputs": []
    },
    {
      "cell_type": "code",
      "source": [
        "lr = 0.001\n",
        "b1 = 0.8\n",
        "b2 = 0.85\n",
        "\n",
        "optimizer = optim.NAdam(model.parameters(), lr=lr, betas=(b1, b2))\n",
        "# optim.Adam(model.parameters(), lr=lr, betas=(b1, b2), weight_decay=0.005)\n",
        "loss_func = CrossEntropyLoss()\n",
        "\n",
        "# Start training\n",
        "epochs = 300\n",
        "loss_list = []\n",
        "model.train()\n",
        "\n",
        "\n",
        "for epoch in range(epochs):\n",
        "    total_loss = []\n",
        "    for batch_idx, (data, target) in enumerate(train_loader):\n",
        "        optimizer.zero_grad(set_to_none=True)\n",
        "        output = model(data.to(device))  # Forward pass\n",
        "        loss = loss_func(output, target.to(device))\n",
        "        loss.backward()\n",
        "        optimizer.step()\n",
        "        total_loss.append(loss.item())\n",
        "    loss_list.append(sum(total_loss) / len(total_loss))  #每epoch平均loss\n",
        "    if epoch % 10 == 0:\n",
        "      print(\"Training [{:.0f}%]\\tLoss: {:.4f}\".format(100.0 * (epoch + 1) / epochs, loss_list[-1]))"
      ],
      "metadata": {
        "id": "xPUHUlUCepsA",
        "colab": {
          "base_uri": "https://localhost:8080/"
        },
        "outputId": "8a003d93-7158-4bf9-f113-fdfdf9ee741d"
      },
      "execution_count": null,
      "outputs": [
        {
          "output_type": "stream",
          "name": "stdout",
          "text": [
            "Training [0%]\tLoss: 2.2469\n",
            "Training [4%]\tLoss: 2.0935\n",
            "Training [7%]\tLoss: 1.9602\n",
            "Training [10%]\tLoss: 1.8120\n",
            "Training [14%]\tLoss: 1.6758\n",
            "Training [17%]\tLoss: 1.5401\n",
            "Training [20%]\tLoss: 1.4154\n",
            "Training [24%]\tLoss: 1.2939\n",
            "Training [27%]\tLoss: 1.1707\n",
            "Training [30%]\tLoss: 1.0982\n",
            "Training [34%]\tLoss: 0.9950\n",
            "Training [37%]\tLoss: 0.9269\n",
            "Training [40%]\tLoss: 0.8618\n",
            "Training [44%]\tLoss: 0.8162\n",
            "Training [47%]\tLoss: 0.7305\n",
            "Training [50%]\tLoss: 0.6896\n",
            "Training [54%]\tLoss: 0.6057\n",
            "Training [57%]\tLoss: 0.6041\n",
            "Training [60%]\tLoss: 0.5715\n",
            "Training [64%]\tLoss: 0.5499\n",
            "Training [67%]\tLoss: 0.5054\n",
            "Training [70%]\tLoss: 0.4637\n",
            "Training [74%]\tLoss: 0.4474\n",
            "Training [77%]\tLoss: 0.4396\n",
            "Training [80%]\tLoss: 0.4199\n",
            "Training [84%]\tLoss: 0.3970\n",
            "Training [87%]\tLoss: 0.3794\n",
            "Training [90%]\tLoss: 0.3519\n",
            "Training [94%]\tLoss: 0.3225\n",
            "Training [97%]\tLoss: 0.3280\n"
          ]
        }
      ]
    },
    {
      "cell_type": "code",
      "source": [
        "plt.plot(loss_list)\n",
        "plt.title(\"Hybrid NN Training Convergence\")\n",
        "plt.xlabel(\"Training Iterations\")\n",
        "plt.ylabel(\"Loss\")\n",
        "plt.show()"
      ],
      "metadata": {
        "id": "0VxuM30gep0u",
        "colab": {
          "base_uri": "https://localhost:8080/",
          "height": 472
        },
        "outputId": "059003d6-6305-4a39-d483-157543335d57"
      },
      "execution_count": null,
      "outputs": [
        {
          "output_type": "display_data",
          "data": {
            "text/plain": [
              "<Figure size 640x480 with 1 Axes>"
            ],
            "image/png": "[encoded data removed]"
          },
          "metadata": {}
        }
      ]
    },
    {
      "cell_type": "code",
      "source": [
        "torch.save(model.state_dict(), \"model.pt\")"
      ],
      "metadata": {
        "id": "WlAezq_oh_SR"
      },
      "execution_count": null,
      "outputs": []
    },
    {
      "cell_type": "markdown",
      "source": [
        "能複製這段並額外做成一個 testing program\n"
      ],
      "metadata": {
        "id": "P5kJXaNP_foZ"
      }
    },
    {
      "cell_type": "code",
      "source": [
        "QNN_test = create_qnn()\n",
        "model_test = Net(QNN_test)\n",
        "model_test.load_state_dict(torch.load(\"model.pt\"))"
      ],
      "metadata": {
        "id": "AnLdgaSfiIEp",
        "colab": {
          "base_uri": "https://localhost:8080/"
        },
        "outputId": "08f6caf8-ca96-47ed-d847-2a1eea993536"
      },
      "execution_count": null,
      "outputs": [
        {
          "output_type": "execute_result",
          "data": {
            "text/plain": [
              "<All keys matched successfully>"
            ]
          },
          "metadata": {},
          "execution_count": 21
        }
      ]
    },
    {
      "cell_type": "code",
      "source": [
        "loss_func = CrossEntropyLoss()\n",
        "total_loss = []\n",
        "correct = 0\n",
        "n_samples_show = 6\n",
        "i = 0    # 當下張數\n",
        "fig, axes = plt.subplots(nrows=1, ncols=n_samples_show, figsize=(10, 3))\n",
        "\n",
        "model_test.eval()  # evaluation mode\n",
        "with no_grad():   # 因為純評估效能，不計算grad\n",
        "\n",
        "    for batch_idx, (data, target) in enumerate(test_loader):\n",
        "        output = model_test(data)\n",
        "        pred = output.argmax(dim=1)  # 取0~9最可能\n",
        "        total_loss.append(loss_func(output, target).item())\n",
        "\n",
        "        for j in range(len(target)):\n",
        "\n",
        "            if pred[j] == target[j]:\n",
        "                correct += 1\n",
        "            elif i == n_samples_show:\n",
        "                break\n",
        "            else:\n",
        "                axes[i].imshow(data[0].numpy().squeeze(), cmap=\"gray\")\n",
        "                axes[i].set_xticks([])\n",
        "                axes[i].set_yticks([])\n",
        "                axes[i].set_title(\"Predicted {}\".format(pred[j].item()))\n",
        "                i += 1\n",
        "\n",
        "    accuracy = correct / len(test_loader) / batch_size  * 100\n",
        "    avg_loss = sum(total_loss) / len(total_loss)\n",
        "\n",
        "    print(\n",
        "        \"Performance on test data:\\n\\tLoss: {:.4f}\\n\\tAccuracy: {:.1f}%\".format(\n",
        "            avg_loss, accuracy\n",
        "        )\n",
        "    )\n",
        "\n",
        "plt.show()"
      ],
      "metadata": {
        "id": "5_LxceF3iIQ4",
        "colab": {
          "base_uri": "https://localhost:8080/",
          "height": 225
        },
        "outputId": "847179b5-5919-46a8-c42f-f13c28757786"
      },
      "execution_count": null,
      "outputs": [
        {
          "output_type": "stream",
          "name": "stdout",
          "text": [
            "Performance on test data:\n",
            "\tLoss: 0.9907\n",
            "\tAccuracy: 21.0%\n"
          ]
        },
        {
          "output_type": "display_data",
          "data": {
            "text/plain": [
              "<Figure size 1000x300 with 6 Axes>"
            ],
            "image/png": "[encoded data removed]"
          },
          "metadata": {}
        }
      ]
    },
    {
      "cell_type": "markdown",
      "source": [
        "可以看到以QNN做FSL並不是一個好選擇。畢竟構造等同最陽春的NN，泛化能力掛勾於training data，但仍是不錯的嘗試。\n",
        "\n"
      ],
      "metadata": {
        "id": "X2fHXFaungc4"
      }
    },
    {
      "cell_type": "markdown",
      "source": [
        "這段為載入自己的手寫圖(小畫家etc.)做評估的code"
      ],
      "metadata": {
        "id": "fKF2IwoQ_-zB"
      }
    },
    {
      "cell_type": "code",
      "source": [
        "def preprocess_input_image(image):\n",
        "    # Define transformations\n",
        "    preprocess = transforms.Compose([\n",
        "        transforms.Resize((28, 28)),    # Resize to 28x28\n",
        "        transforms.Grayscale(num_output_channels=1),  # Convert to grayscale (1 channel)\n",
        "        transforms.ToTensor(),\n",
        "        transforms.Normalize(mean=[0.5], std=[0.5])\n",
        "    ])\n",
        "\n",
        "    # Apply transformations\n",
        "    preprocessed_image = preprocess(image).unsqueeze(0)    # 轉換成(1, 通道數, H, W)輸出\n",
        "    return preprocessed_image"
      ],
      "metadata": {
        "id": "TbR_ooVUq2xX"
      },
      "execution_count": null,
      "outputs": []
    },
    {
      "cell_type": "code",
      "source": [
        "model_test.eval()\n",
        "with torch.no_grad():\n",
        "\n",
        "    img = Image.open('2.jpg')\n",
        "    img = preprocess_input_image(img)\n",
        "    output = model_test(img)\n",
        "    predicted_class = output.argmax(dim=1).item()\n",
        "\n",
        "    print(\"Predicted class:\", predicted_class)"
      ],
      "metadata": {
        "id": "j4iHjsxYq2_8",
        "colab": {
          "base_uri": "https://localhost:8080/"
        },
        "outputId": "8ae2a618-195b-4ac7-a758-00f76eb9462a"
      },
      "execution_count": null,
      "outputs": [
        {
          "output_type": "stream",
          "name": "stdout",
          "text": [
            "Predicted class: 2\n"
          ]
        }
      ]
    }
  ]
}