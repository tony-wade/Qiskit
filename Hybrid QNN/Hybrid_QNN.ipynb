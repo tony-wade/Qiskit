{
  "nbformat": 4,
  "nbformat_minor": 0,
  "metadata": {
    "colab": {
      "provenance": [],
      "authorship_tag": "ABX9TyNurqQUe+KNR77kcAOy2CSN",
      "include_colab_link": true
    },
    "kernelspec": {
      "name": "python3",
      "display_name": "Python 3"
    },
    "language_info": {
      "name": "python"
    }
  },
  "cells": [
    {
      "cell_type": "markdown",
      "metadata": {
        "id": "view-in-github",
        "colab_type": "text"
      },
      "source": [
        "<a href=\"https://colab.research.google.com/github/tony-wade/Qiskit/blob/main/Hybrid%20QNN/Hybrid_QNN.ipynb\" target=\"_parent\"><img src=\"https://colab.research.google.com/assets/colab-badge.svg\" alt=\"Open In Colab\"/></a>"
      ]
    },
    {
      "cell_type": "markdown",
      "source": [
        "Qiskit僅提供基礎0、1的圖案判別，這次想試試若拓展到0至9後的模型辨識結果。另外考量自身算力後決定測試QNN在FSL下的表現。"
      ],
      "metadata": {
        "id": "v6D6KDeVvqjJ"
      }
    },
    {
      "cell_type": "code",
      "execution_count": 1,
      "metadata": {
        "id": "dXAVD-p-lmes",
        "colab": {
          "base_uri": "https://localhost:8080/"
        },
        "outputId": "ec675fb4-6304-4490-9fa4-07a79b985b00"
      },
      "outputs": [
        {
          "output_type": "stream",
          "name": "stdout",
          "text": [
            "Requirement already satisfied: qiskit-machine-learning in /usr/local/lib/python3.10/dist-packages (0.6.1)\n",
            "Requirement already satisfied: qiskit-terra>=0.22.2 in /usr/local/lib/python3.10/dist-packages (from qiskit-machine-learning) (0.25.2.1)\n",
            "Requirement already satisfied: scipy>=1.4 in /usr/local/lib/python3.10/dist-packages (from qiskit-machine-learning) (1.11.3)\n",
            "Requirement already satisfied: numpy>=1.17 in /usr/local/lib/python3.10/dist-packages (from qiskit-machine-learning) (1.23.5)\n",
            "Requirement already satisfied: psutil>=5 in /usr/local/lib/python3.10/dist-packages (from qiskit-machine-learning) (5.9.5)\n",
            "Requirement already satisfied: scikit-learn>=0.20.0 in /usr/local/lib/python3.10/dist-packages (from qiskit-machine-learning) (1.2.2)\n",
            "Requirement already satisfied: fastdtw in /usr/local/lib/python3.10/dist-packages (from qiskit-machine-learning) (0.3.4)\n",
            "Requirement already satisfied: setuptools>=40.1.0 in /usr/local/lib/python3.10/dist-packages (from qiskit-machine-learning) (67.7.2)\n",
            "Requirement already satisfied: dill>=0.3.4 in /usr/local/lib/python3.10/dist-packages (from qiskit-machine-learning) (0.3.7)\n",
            "Requirement already satisfied: rustworkx>=0.13.0 in /usr/local/lib/python3.10/dist-packages (from qiskit-terra>=0.22.2->qiskit-machine-learning) (0.13.2)\n",
            "Requirement already satisfied: ply>=3.10 in /usr/local/lib/python3.10/dist-packages (from qiskit-terra>=0.22.2->qiskit-machine-learning) (3.11)\n",
            "Requirement already satisfied: sympy>=1.3 in /usr/local/lib/python3.10/dist-packages (from qiskit-terra>=0.22.2->qiskit-machine-learning) (1.12)\n",
            "Requirement already satisfied: python-dateutil>=2.8.0 in /usr/local/lib/python3.10/dist-packages (from qiskit-terra>=0.22.2->qiskit-machine-learning) (2.8.2)\n",
            "Requirement already satisfied: stevedore>=3.0.0 in /usr/local/lib/python3.10/dist-packages (from qiskit-terra>=0.22.2->qiskit-machine-learning) (5.1.0)\n",
            "Requirement already satisfied: symengine<0.10,>=0.9 in /usr/local/lib/python3.10/dist-packages (from qiskit-terra>=0.22.2->qiskit-machine-learning) (0.9.2)\n",
            "Requirement already satisfied: typing-extensions in /usr/local/lib/python3.10/dist-packages (from qiskit-terra>=0.22.2->qiskit-machine-learning) (4.5.0)\n",
            "Requirement already satisfied: joblib>=1.1.1 in /usr/local/lib/python3.10/dist-packages (from scikit-learn>=0.20.0->qiskit-machine-learning) (1.3.2)\n",
            "Requirement already satisfied: threadpoolctl>=2.0.0 in /usr/local/lib/python3.10/dist-packages (from scikit-learn>=0.20.0->qiskit-machine-learning) (3.2.0)\n",
            "Requirement already satisfied: six>=1.5 in /usr/local/lib/python3.10/dist-packages (from python-dateutil>=2.8.0->qiskit-terra>=0.22.2->qiskit-machine-learning) (1.16.0)\n",
            "Requirement already satisfied: pbr!=2.1.0,>=2.0.0 in /usr/local/lib/python3.10/dist-packages (from stevedore>=3.0.0->qiskit-terra>=0.22.2->qiskit-machine-learning) (5.11.1)\n",
            "Requirement already satisfied: mpmath>=0.19 in /usr/local/lib/python3.10/dist-packages (from sympy>=1.3->qiskit-terra>=0.22.2->qiskit-machine-learning) (1.3.0)\n"
          ]
        }
      ],
      "source": [
        "import os\n",
        "import numpy as np\n",
        "from PIL import Image,ImageOps\n",
        "import matplotlib.pyplot as plt\n",
        "from torch import Tensor\n",
        "from torch.nn import Linear, CrossEntropyLoss, MSELoss\n",
        "import torch\n",
        "from torch import no_grad\n",
        "from torch.utils.data import DataLoader, Dataset, ConcatDataset\n",
        "from torchvision import datasets, transforms\n",
        "import torch.optim as optim\n",
        "import torch.nn.functional as F\n",
        "from torch.nn import (\n",
        "    Module,\n",
        "    Conv2d,\n",
        "    Linear,\n",
        "    Dropout2d,\n",
        "    MaxPool2d,\n",
        "    Flatten,\n",
        "    Sequential,\n",
        "    ReLU,\n",
        ")\n",
        "#!pip install qiskit\n",
        "!pip install qiskit-machine-learning\n",
        "from qiskit import QuantumCircuit\n",
        "from qiskit.utils import algorithm_globals\n",
        "from qiskit.circuit import Parameter\n",
        "from qiskit.circuit.library import RealAmplitudes, EfficientSU2\n",
        "from qiskit_machine_learning.neural_networks import SamplerQNN\n",
        "from qiskit_machine_learning.connectors import TorchConnector\n",
        "import random\n",
        "\n",
        "device = torch.device('cuda') if torch.cuda.is_available() else torch.device('cpu')"
      ]
    },
    {
      "cell_type": "code",
      "source": [
        "# 定義圖像變換\n",
        "transform = transforms.Compose([\n",
        "    transforms.RandomRotation(10),\n",
        "    transforms.RandomAffine(0, (0.1,0.1)),  # 随機平移最多10%的寬/高\n",
        "    transforms.RandomResizedCrop(size=(28, 28), scale=(0.85, 1.0)),\n",
        "    transforms.ToTensor(),\n",
        "    transforms.Normalize((0.5,), (0.5,))\n",
        "])\n",
        "\n",
        "\n",
        "class CustomMNISTDataset(Dataset):\n",
        "    def __init__(self, root_dir, transform=None):\n",
        "        self.root_dir = root_dir\n",
        "        self.transform = transform\n",
        "        self.image_files = [f for f in os.listdir(root_dir) if f.endswith(\".jpg\")]\n",
        "\n",
        "    def __len__(self):\n",
        "        return len(self.image_files)\n",
        "\n",
        "    def __getitem__(self, idx):\n",
        "        img_name = os.path.join(self.root_dir, self.image_files[idx])\n",
        "        img = Image.open(img_name).convert('L')  # 轉成黑白\n",
        "        image = ImageOps.invert(img)\n",
        "        label = int(self.image_files[idx].split('.')[0])  # 文件名=tag\n",
        "\n",
        "        if self.transform:\n",
        "            image = self.transform(image)\n",
        "\n",
        "        return image, label"
      ],
      "metadata": {
        "id": "oxJZGEsH96Kj"
      },
      "execution_count": 2,
      "outputs": []
    },
    {
      "cell_type": "code",
      "source": [
        "# 設定批次大小、每類樣本數、數據增強之增生倍率\n",
        "batch_size = 20\n",
        "n_samples = 10\n",
        "num_copies = 20\n",
        "\n",
        "\n",
        "# Training dataset\n",
        "# -----------------------\n",
        "# 使用torchvision函數載入MNIST訓練數據，28*28\n",
        "transform = transforms.Compose([transforms.ToTensor(), transforms.Normalize((0.5,), (0.5,))])\n",
        "X_train = datasets.MNIST(root='./data', train=True, transform=transform, download=True)\n",
        "\n",
        "# Data aug\n",
        "expanded_dataset = []\n",
        "for _ in range(num_copies):\n",
        "    augmented_dataset = CustomMNISTDataset('./selfmnist', transform=transform)\n",
        "    expanded_dataset.append(augmented_dataset)\n",
        "\n",
        "# 選取每個數字類別的n_samples個樣本\n",
        "idx = []\n",
        "for digit in range(10):\n",
        "    digit_indices = np.where(X_train.targets == digit)[0]\n",
        "    selected_indices = random.sample(digit_indices.tolist(), n_samples)\n",
        "    idx.extend(selected_indices)\n",
        "\n",
        "X_train.data = X_train.data[idx]\n",
        "X_train.targets = X_train.targets[idx]\n",
        "\n",
        "# 合併dataset\n",
        "expanded_dataset.append(X_train)\n",
        "expanded_dataset = ConcatDataset(expanded_dataset)\n",
        "\n",
        "# 定義dataloader\n",
        "train_loader = DataLoader(expanded_dataset, batch_size=batch_size, shuffle=True)\n",
        "\n",
        "\n",
        "\n",
        "\n",
        "# Test dataset\n",
        "# --------------------\n",
        "# 測試集筆數\n",
        "n_tests = 50\n",
        "\n",
        "# 載入MNIST測試數據\n",
        "X_test = datasets.MNIST(\n",
        "    root=\"./data\", train=False, download=True, transform=transforms.Compose([transforms.ToTensor(), transforms.Normalize((0.5,), (0.5,))])\n",
        ")\n",
        "\n",
        "# 選取每個數字類別的前n_tests個樣本\n",
        "idx2 = []\n",
        "for digit in range(10):\n",
        "    idx2.extend(np.where(X_test.targets == digit)[0][:n_tests])\n",
        "X_test.data = X_test.data[idx2]\n",
        "X_test.targets = X_test.targets[idx2]\n",
        "\n",
        "# 定義dataloader\n",
        "test_loader = DataLoader(X_test, batch_size=batch_size, shuffle=True)\n"
      ],
      "metadata": {
        "id": "fP7GBdAha8-N"
      },
      "execution_count": 3,
      "outputs": []
    },
    {
      "cell_type": "code",
      "source": [
        "n_samples_show = 6\n",
        "\n",
        "data_iter = iter(train_loader) #轉成疊代器\n",
        "fig, axes = plt.subplots(1, n_samples_show, figsize=(10, 3)) #控制子圖以[1,n]方式呈現\n",
        "\n",
        "for ax in axes:\n",
        "    images, targets = next(data_iter) #逐個讀取\n",
        "    ax.imshow(images[0, 0].numpy().squeeze(), cmap=\"gray\")\n",
        "    ax.set_xticks([]) #刻度不顯示\n",
        "    ax.set_yticks([])\n",
        "    ax.set_title(\"Labeled: {}\".format(targets[0].item()))"
      ],
      "metadata": {
        "id": "MWQcxZvUejU6",
        "colab": {
          "base_uri": "https://localhost:8080/",
          "height": 170
        },
        "outputId": "998e0bbd-e448-4b5d-f7a2-0afea2f7e265"
      },
      "execution_count": 4,
      "outputs": [
        {
          "output_type": "display_data",
          "data": {
            "text/plain": [
              "<Figure size 1000x300 with 6 Axes>"
            ],
            "image/png": "[encoded data removed]"
          },
          "metadata": {}
        }
      ]
    },
    {
      "cell_type": "code",
      "source": [
        "# 取最少須10個states, 取4qubits共2^4個states\n",
        "def create_qnn():\n",
        "    feature_map = EfficientSU2(4,reps=1)\n",
        "    ansatz = RealAmplitudes(4, reps=1, parameter_prefix='A')\n",
        "    qc = QuantumCircuit(4)\n",
        "    qc.compose(feature_map, inplace=True) # 開啟可調參數\n",
        "    qc.compose(ansatz, inplace=True)\n",
        "\n",
        "\n",
        "    qnn = SamplerQNN(\n",
        "        circuit = qc,\n",
        "        input_params = feature_map.parameters,\n",
        "        weight_params = ansatz.parameters,\n",
        "        input_gradients = True,  # 要連接倒傳遞\n",
        "    )\n",
        "    return qnn\n",
        "\n",
        "QNN = create_qnn()"
      ],
      "metadata": {
        "id": "UlINacKJekBS"
      },
      "execution_count": 5,
      "outputs": []
    },
    {
      "cell_type": "code",
      "source": [
        "class Net(Module):\n",
        "    def __init__(self, qnn):\n",
        "        super().__init__()\n",
        "        self.conv1 = Conv2d(1, 2, kernel_size=5)  # 每5*5轉成1*1的Convolution Layer\n",
        "        self.conv2 = Conv2d(2, 16, kernel_size=5)\n",
        "        self.dropout = Dropout2d()   # 隨機丟失神經元避免overfitting\n",
        "        self.fc1 = Linear(256, 16)\n",
        "        self.qnn = TorchConnector(qnn) # 沒指定,隨機權重in[-1,1].\n",
        "        self.fc3 = Linear(16, 10)\n",
        "\n",
        "    def forward(self, x):\n",
        "        x = F.relu(self.conv1(x))  # width=28-5+1=24\n",
        "        x = F.max_pool2d(x, 2)   # 分割成2*2小區域，輸出4者中的最大值，抗雜\n",
        "        x = F.relu(self.conv2(x))  # 12-5+1\n",
        "        x = F.max_pool2d(x, 2)   # 萃取後 width=4\n",
        "        x = self.dropout(x)     # 16個4*4的圖\n",
        "        x = x.view(x.shape[0], -1)\n",
        "        x = F.relu(self.fc1(x))\n",
        "        x = self.qnn(x)\n",
        "        x = self.fc3(x)\n",
        "        return x\n",
        "\n",
        "\n",
        "model = Net(QNN).to(device)"
      ],
      "metadata": {
        "id": "lj1KF4SBepj4"
      },
      "execution_count": 6,
      "outputs": []
    },
    {
      "cell_type": "code",
      "source": [
        "lr = 0.01\n",
        "b1 = 0.8\n",
        "b2 = 0.85\n",
        "\n",
        "optimizer = optim.NAdam(model.parameters(), lr=lr, betas=(b1, b2))\n",
        "# optim.Adam(model.parameters(), lr=lr, betas=(b1, b2), weight_decay=0.005)\n",
        "loss_func = CrossEntropyLoss()\n",
        "\n",
        "# Start training\n",
        "epochs = 100\n",
        "loss_list = []\n",
        "model.train()\n",
        "\n",
        "\n",
        "for epoch in range(epochs):\n",
        "    total_loss = []\n",
        "    for batch_idx, (data, target) in enumerate(train_loader):\n",
        "        optimizer.zero_grad(set_to_none=True)\n",
        "        output = model(data.to(device))  # Forward pass\n",
        "        loss = loss_func(output, target.to(device))\n",
        "        loss.backward()\n",
        "        optimizer.step()\n",
        "        total_loss.append(loss.item())\n",
        "    loss_list.append(sum(total_loss) / len(total_loss))  #每epoch平均loss\n",
        "    if epoch % 10 == 0:\n",
        "      print(\"Training [{:.0f}%]\\tLoss: {:.4f}\".format(100.0 * (epoch + 1) / epochs, loss_list[-1]))"
      ],
      "metadata": {
        "id": "xPUHUlUCepsA",
        "colab": {
          "base_uri": "https://localhost:8080/"
        },
        "outputId": "f79b7c7b-e86d-44a0-8d45-6288d65a636e"
      },
      "execution_count": 15,
      "outputs": [
        {
          "output_type": "stream",
          "name": "stdout",
          "text": [
            "Training [1%]\tLoss: 1.3295\n",
            "Training [11%]\tLoss: 0.7123\n",
            "Training [21%]\tLoss: 0.4702\n",
            "Training [31%]\tLoss: 0.3550\n",
            "Training [41%]\tLoss: 0.2982\n",
            "Training [51%]\tLoss: 0.2281\n",
            "Training [61%]\tLoss: 0.1896\n",
            "Training [71%]\tLoss: 0.1490\n",
            "Training [81%]\tLoss: 0.1670\n",
            "Training [91%]\tLoss: 0.1931\n"
          ]
        }
      ]
    },
    {
      "cell_type": "code",
      "source": [
        "plt.plot(loss_list)\n",
        "plt.title(\"Hybrid NN Training Convergence\")\n",
        "plt.xlabel(\"Training Iterations\")\n",
        "plt.ylabel(\"Loss\")\n",
        "plt.show()"
      ],
      "metadata": {
        "id": "0VxuM30gep0u",
        "colab": {
          "base_uri": "https://localhost:8080/",
          "height": 472
        },
        "outputId": "672a4a20-bb90-4953-df3e-ede6d5c76c93"
      },
      "execution_count": 16,
      "outputs": [
        {
          "output_type": "display_data",
          "data": {
            "text/plain": [
              "<Figure size 640x480 with 1 Axes>"
            ],
            "image/png": "[encoded data removed]"
          },
          "metadata": {}
        }
      ]
    },
    {
      "cell_type": "code",
      "source": [
        "torch.save(model.state_dict(), \"model.pt\")"
      ],
      "metadata": {
        "id": "WlAezq_oh_SR"
      },
      "execution_count": 17,
      "outputs": []
    },
    {
      "cell_type": "markdown",
      "source": [
        "能複製這段並額外做成一個 testing program\n"
      ],
      "metadata": {
        "id": "P5kJXaNP_foZ"
      }
    },
    {
      "cell_type": "code",
      "source": [
        "QNN_test = create_qnn()\n",
        "model_test = Net(QNN_test)\n",
        "model_test.load_state_dict(torch.load(\"model.pt\"))"
      ],
      "metadata": {
        "id": "AnLdgaSfiIEp",
        "colab": {
          "base_uri": "https://localhost:8080/"
        },
        "outputId": "8d169117-f269-48d1-8797-07d972416754"
      },
      "execution_count": 18,
      "outputs": [
        {
          "output_type": "execute_result",
          "data": {
            "text/plain": [
              "<All keys matched successfully>"
            ]
          },
          "metadata": {},
          "execution_count": 18
        }
      ]
    },
    {
      "cell_type": "code",
      "source": [
        "loss_func = CrossEntropyLoss()\n",
        "total_loss = []\n",
        "correct = 0\n",
        "n_samples_show = 6\n",
        "i = 0    # 當下張數\n",
        "fig, axes = plt.subplots(nrows=1, ncols=n_samples_show, figsize=(10, 3))\n",
        "\n",
        "model_test.eval()  # evaluation mode\n",
        "with no_grad():   # 因為純評估效能，不計算grad\n",
        "\n",
        "    for batch_idx, (data, target) in enumerate(test_loader):\n",
        "        output = model_test(data)\n",
        "        pred = output.argmax(dim=1)  # 取0~9最可能\n",
        "        total_loss.append(loss_func(output, target).item())\n",
        "\n",
        "        for j in range(len(target)):\n",
        "\n",
        "            if pred[j] == target[j]:\n",
        "                correct += 1\n",
        "            elif i == n_samples_show:\n",
        "                break\n",
        "            else:\n",
        "                axes[i].imshow(data[0].numpy().squeeze(), cmap=\"gray\")\n",
        "                axes[i].set_xticks([])\n",
        "                axes[i].set_yticks([])\n",
        "                axes[i].set_title(\"Predicted {}\".format(pred[j].item()))\n",
        "                i += 1\n",
        "\n",
        "    accuracy = correct / len(test_loader) / batch_size  * 100\n",
        "    avg_loss = sum(total_loss) / len(total_loss)\n",
        "\n",
        "    print(\n",
        "        \"Performance on test data:\\n\\tLoss: {:.4f}\\n\\tAccuracy: {:.1f}%\".format(\n",
        "            avg_loss, accuracy\n",
        "        )\n",
        "    )\n",
        "\n",
        "plt.show()"
      ],
      "metadata": {
        "id": "5_LxceF3iIQ4",
        "colab": {
          "base_uri": "https://localhost:8080/",
          "height": 222
        },
        "outputId": "5772227b-654c-4038-af9d-93ec64484a57"
      },
      "execution_count": 19,
      "outputs": [
        {
          "output_type": "stream",
          "name": "stdout",
          "text": [
            "Performance on test data:\n",
            "\tLoss: 1.3874\n",
            "\tAccuracy: 7.6%\n"
          ]
        },
        {
          "output_type": "display_data",
          "data": {
            "text/plain": [
              "<Figure size 1000x300 with 6 Axes>"
            ],
            "image/png": "[encoded data removed]"
          },
          "metadata": {}
        }
      ]
    },
    {
      "cell_type": "markdown",
      "source": [
        "可以看到以QNN做FSL並不是一個好選擇。畢竟概念等同最陽春的NN，泛化能力掛勾於training data。但測試QNN的目的已達成，整體運作速度奇慢，若非特殊用途則建議用一般NN即可。\n",
        "\n"
      ],
      "metadata": {
        "id": "X2fHXFaungc4"
      }
    },
    {
      "cell_type": "markdown",
      "source": [
        "這段為載入自己的手寫圖(小畫家etc.)做評估的code"
      ],
      "metadata": {
        "id": "fKF2IwoQ_-zB"
      }
    },
    {
      "cell_type": "code",
      "source": [
        "def preprocess_input_image(image):\n",
        "    # Define transformations\n",
        "    preprocess = transforms.Compose([\n",
        "        transforms.Resize((28, 28)),    # Resize to 28x28\n",
        "        transforms.Grayscale(num_output_channels=1),  # Convert to grayscale (1 channel)\n",
        "        transforms.ToTensor(),\n",
        "        transforms.Normalize(mean=[0.5], std=[0.5])\n",
        "    ])\n",
        "\n",
        "    # Apply transformations\n",
        "    preprocessed_image = preprocess(image).unsqueeze(0)    # 轉換成(1, 通道數, H, W)輸出\n",
        "    return preprocessed_image"
      ],
      "metadata": {
        "id": "TbR_ooVUq2xX"
      },
      "execution_count": 20,
      "outputs": []
    },
    {
      "cell_type": "code",
      "source": [
        "model_test.eval()\n",
        "with torch.no_grad():\n",
        "\n",
        "    img = Image.open('2.jpg')\n",
        "    img = preprocess_input_image(img)\n",
        "    output = model_test(img)\n",
        "    predicted_class = output.argmax(dim=1).item()\n",
        "\n",
        "    print(\"Predicted class:\", predicted_class)"
      ],
      "metadata": {
        "id": "j4iHjsxYq2_8",
        "colab": {
          "base_uri": "https://localhost:8080/"
        },
        "outputId": "4239a2e1-7b28-4d99-e059-e0253dc97c84"
      },
      "execution_count": 21,
      "outputs": [
        {
          "output_type": "stream",
          "name": "stdout",
          "text": [
            "Predicted class: 4\n"
          ]
        }
      ]
    }
  ]
}