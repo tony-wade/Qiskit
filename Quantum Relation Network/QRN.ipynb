{
  "nbformat": 4,
  "nbformat_minor": 0,
  "metadata": {
    "colab": {
      "provenance": [],
      "gpuType": "T4",
      "authorship_tag": "ABX9TyPPp9pdBYVPbW/iwbGa/gii",
      "include_colab_link": true
    },
    "kernelspec": {
      "name": "python3",
      "display_name": "Python 3"
    },
    "language_info": {
      "name": "python"
    },
    "accelerator": "GPU"
  },
  "cells": [
    {
      "cell_type": "markdown",
      "metadata": {
        "id": "view-in-github",
        "colab_type": "text"
      },
      "source": [
        "<a href=\"https://colab.research.google.com/github/tony-wade/Qiskit/blob/main/Quantum%20Relation%20Network/QRN.ipynb\" target=\"_parent\"><img src=\"https://colab.research.google.com/assets/colab-badge.svg\" alt=\"Open In Colab\"/></a>"
      ]
    },
    {
      "cell_type": "markdown",
      "source": [
        "歡迎先看看此處的說明: https://wadewu.odoo.com/blog/coding-3/ren-ren-du-neng-you-ge-xiao-mo-xu-luo-12"
      ],
      "metadata": {
        "id": "UyvE2FRHZSIe"
      }
    },
    {
      "cell_type": "code",
      "execution_count": 11,
      "metadata": {
        "id": "uFqabTSjELi-",
        "colab": {
          "base_uri": "https://localhost:8080/"
        },
        "outputId": "ba28f15f-ca14-453e-999c-c8bca9cec0d1"
      },
      "outputs": [
        {
          "output_type": "stream",
          "name": "stdout",
          "text": [
            "Requirement already satisfied: qiskit-machine-learning in /usr/local/lib/python3.10/dist-packages (0.6.1)\n",
            "Requirement already satisfied: qiskit-terra>=0.22.2 in /usr/local/lib/python3.10/dist-packages (from qiskit-machine-learning) (0.25.1)\n",
            "Requirement already satisfied: scipy>=1.4 in /usr/local/lib/python3.10/dist-packages (from qiskit-machine-learning) (1.11.2)\n",
            "Requirement already satisfied: numpy>=1.17 in /usr/local/lib/python3.10/dist-packages (from qiskit-machine-learning) (1.23.5)\n",
            "Requirement already satisfied: psutil>=5 in /usr/local/lib/python3.10/dist-packages (from qiskit-machine-learning) (5.9.5)\n",
            "Requirement already satisfied: scikit-learn>=0.20.0 in /usr/local/lib/python3.10/dist-packages (from qiskit-machine-learning) (1.2.2)\n",
            "Requirement already satisfied: fastdtw in /usr/local/lib/python3.10/dist-packages (from qiskit-machine-learning) (0.3.4)\n",
            "Requirement already satisfied: setuptools>=40.1.0 in /usr/local/lib/python3.10/dist-packages (from qiskit-machine-learning) (67.7.2)\n",
            "Requirement already satisfied: dill>=0.3.4 in /usr/local/lib/python3.10/dist-packages (from qiskit-machine-learning) (0.3.7)\n",
            "Requirement already satisfied: rustworkx>=0.13.0 in /usr/local/lib/python3.10/dist-packages (from qiskit-terra>=0.22.2->qiskit-machine-learning) (0.13.1)\n",
            "Requirement already satisfied: ply>=3.10 in /usr/local/lib/python3.10/dist-packages (from qiskit-terra>=0.22.2->qiskit-machine-learning) (3.11)\n",
            "Requirement already satisfied: sympy>=1.3 in /usr/local/lib/python3.10/dist-packages (from qiskit-terra>=0.22.2->qiskit-machine-learning) (1.12)\n",
            "Requirement already satisfied: python-dateutil>=2.8.0 in /usr/local/lib/python3.10/dist-packages (from qiskit-terra>=0.22.2->qiskit-machine-learning) (2.8.2)\n",
            "Requirement already satisfied: stevedore>=3.0.0 in /usr/local/lib/python3.10/dist-packages (from qiskit-terra>=0.22.2->qiskit-machine-learning) (5.1.0)\n",
            "Requirement already satisfied: symengine<0.10,>=0.9 in /usr/local/lib/python3.10/dist-packages (from qiskit-terra>=0.22.2->qiskit-machine-learning) (0.9.2)\n",
            "Requirement already satisfied: typing-extensions in /usr/local/lib/python3.10/dist-packages (from qiskit-terra>=0.22.2->qiskit-machine-learning) (4.5.0)\n",
            "Requirement already satisfied: joblib>=1.1.1 in /usr/local/lib/python3.10/dist-packages (from scikit-learn>=0.20.0->qiskit-machine-learning) (1.3.2)\n",
            "Requirement already satisfied: threadpoolctl>=2.0.0 in /usr/local/lib/python3.10/dist-packages (from scikit-learn>=0.20.0->qiskit-machine-learning) (3.2.0)\n",
            "Requirement already satisfied: six>=1.5 in /usr/local/lib/python3.10/dist-packages (from python-dateutil>=2.8.0->qiskit-terra>=0.22.2->qiskit-machine-learning) (1.16.0)\n",
            "Requirement already satisfied: pbr!=2.1.0,>=2.0.0 in /usr/local/lib/python3.10/dist-packages (from stevedore>=3.0.0->qiskit-terra>=0.22.2->qiskit-machine-learning) (5.11.1)\n",
            "Requirement already satisfied: mpmath>=0.19 in /usr/local/lib/python3.10/dist-packages (from sympy>=1.3->qiskit-terra>=0.22.2->qiskit-machine-learning) (1.3.0)\n"
          ]
        }
      ],
      "source": [
        "import os\n",
        "import random\n",
        "import numpy as np\n",
        "from PIL import Image,ImageOps\n",
        "import matplotlib.pyplot as plt\n",
        "from torch import Tensor\n",
        "import torch.nn as nn\n",
        "import torch\n",
        "from torch import no_grad\n",
        "from torch.utils.data import DataLoader, Dataset, ConcatDataset\n",
        "from torchvision import datasets, transforms\n",
        "import torch.optim as optim\n",
        "from torch.nn import (\n",
        "    Module,\n",
        "    Conv2d,\n",
        "    Linear,\n",
        "    Dropout2d,\n",
        "    MaxPool2d,\n",
        "    Flatten,\n",
        "    Sequential,\n",
        "    ReLU,\n",
        ")\n",
        "#!pip install qiskit\n",
        "!pip install qiskit-machine-learning\n",
        "from qiskit import QuantumCircuit\n",
        "from qiskit.circuit.library import EfficientSU2\n",
        "from qiskit_machine_learning.neural_networks import SamplerQNN\n",
        "from qiskit_machine_learning.connectors import TorchConnector"
      ]
    },
    {
      "cell_type": "code",
      "source": [
        "device = torch.device('cuda') if torch.cuda.is_available() else torch.device('cpu')\n",
        "torch.set_default_tensor_type('torch.FloatTensor')"
      ],
      "metadata": {
        "id": "-4zoWdsH1UVW"
      },
      "execution_count": 12,
      "outputs": []
    },
    {
      "cell_type": "code",
      "source": [
        "# 定義數據增強\n",
        "transform = transforms.Compose([\n",
        "    transforms.RandomRotation(15),\n",
        "    transforms.RandomAffine(degrees=0, translate=(0.1,0.1), shear=(5,5)),  # 隨機平移、推移\n",
        "    transforms.RandomResizedCrop(size=(28, 28), scale=(0.85, 1.0)),\n",
        "    transforms.ToTensor(),\n",
        "    transforms.Normalize((0.5,), (0.5,))\n",
        "])\n",
        "\n",
        "\n",
        "class CustomMNISTDataset(Dataset):\n",
        "    def __init__(self, root_dir, transform=None):\n",
        "        self.root_dir = root_dir\n",
        "        self.transform = transform\n",
        "        self.image_files = [f for f in os.listdir(root_dir) if f.endswith(\".jpg\")]\n",
        "\n",
        "    def __len__(self):\n",
        "        return len(self.image_files)\n",
        "\n",
        "    def __getitem__(self, idx):\n",
        "        img_name = os.path.join(self.root_dir, self.image_files[idx])\n",
        "        img = Image.open(img_name).convert('L')  # 轉成黑白\n",
        "        image = ImageOps.invert(img)\n",
        "        label = int(self.image_files[idx].split('.')[0])  # 文件名=tag\n",
        "\n",
        "        if self.transform:\n",
        "            image = self.transform(image)\n",
        "\n",
        "        return image, label"
      ],
      "metadata": {
        "id": "3Jd3lImQE0aH"
      },
      "execution_count": 13,
      "outputs": []
    },
    {
      "cell_type": "code",
      "source": [
        "n_classes = 10    # 類別數\n",
        "batch_size = 10\n",
        "num_copies = 40  # 數據增強倍率（每個類別的複製數）\n",
        "n_query = 10   # 每類別用於測量的data數\n",
        "n_test = 20   # 每類別用於測試的data數\n",
        "\n",
        "# Sample/Support & Training set\n",
        "#\n",
        "# Sample: 28*28 10 pics(1-shot)\n",
        "sample = CustomMNISTDataset('./selfmnist', transform=transforms.Compose([\n",
        "                                      transforms.ToTensor(),\n",
        "                                      transforms.Normalize((0.5,), (0.5,))\n",
        "                                      ]))\n",
        "\n",
        "# Train：by data aug.\n",
        "custom_dataset = CustomMNISTDataset('./selfmnist', transform=transform)\n",
        "train = [custom_dataset] * num_copies\n",
        "train = ConcatDataset(train)\n",
        "\n",
        "\n",
        "\n",
        "# Query set\n",
        "#\n",
        "# 加載MNIST dataset(28*28),並從每個類別中隨機選取n_query個樣本\n",
        "X_query = datasets.MNIST(root='./data', train=True, transform=transforms.Compose([\n",
        "                                          transforms.ToTensor(),\n",
        "                                          transforms.Normalize((0.5,), (0.5,))\n",
        "                                           ]), download=True)\n",
        "\n",
        "idx = []\n",
        "for digit in range(n_classes):\n",
        "    digit_indices = np.where(X_query.targets == digit)[0]\n",
        "    selected_indices = random.sample(digit_indices.tolist(), n_query)\n",
        "    idx.extend(selected_indices)\n",
        "\n",
        "X_query.data = X_query.data[idx]\n",
        "X_query.targets = X_query.targets[idx]\n",
        "\n",
        "\n",
        "\n",
        "\n",
        "# Test set\n",
        "#\n",
        "X_test = datasets.MNIST(root='./data', train=False, transform=transforms.Compose([\n",
        "                                          transforms.ToTensor(),\n",
        "                                          transforms.Normalize((0.5,), (0.5,))\n",
        "                                           ]), download=True)\n",
        "\n",
        "idx = []\n",
        "for digit in range(n_classes):\n",
        "    digit_indices = np.where(X_test.targets == digit)[0]\n",
        "    selected_indices = random.sample(digit_indices.tolist(), n_test)\n",
        "    idx.extend(selected_indices)\n",
        "\n",
        "X_test.data = X_test.data[idx]\n",
        "X_test.targets = X_test.targets[idx]\n",
        "\n",
        "\n",
        "\n",
        "\n",
        "# 定義dataloader\n",
        "#\n",
        "sample_loader = DataLoader(sample, batch_size=1, shuffle=False)\n",
        "train_loader = DataLoader(train, batch_size=batch_size, shuffle=True)\n",
        "query_loader = DataLoader(X_query, batch_size=batch_size, shuffle=True)\n",
        "test_loader = DataLoader(X_test, batch_size=batch_size, shuffle=False)"
      ],
      "metadata": {
        "id": "rTtkWUCBE3NK"
      },
      "execution_count": 14,
      "outputs": []
    },
    {
      "cell_type": "code",
      "source": [
        "class CNN(nn.Module):\n",
        "\n",
        "    def __init__(self):\n",
        "        super(CNN, self).__init__()\n",
        "        self.layer1 = nn.Sequential(\n",
        "                        nn.Conv2d(1, 32, kernel_size=3, bias=False),     # 拆成兩組3*3kernel表現會比一個5*5好,接BN則不需bias\n",
        "                        nn.BatchNorm2d(32, momentum=1, affine=True),    # 縮放/歸一 加速訓練 減少Ocerfitting\n",
        "                        nn.ReLU(),\n",
        "                        nn.Conv2d(32, 32, kernel_size=3, bias=False),\n",
        "                        nn.BatchNorm2d(32, momentum=1, affine=True),\n",
        "                        nn.ReLU(),\n",
        "                        nn.Conv2d(32, 32, kernel_size=5, stride=2, padding=1, bias=False),    # stride=2做出可學習的pooling\n",
        "                        nn.BatchNorm2d(32, momentum=1, affine=True),\n",
        "                        nn.ReLU(),\n",
        "                        nn.Dropout2d(p=0.4))\n",
        "        self.layer2 = nn.Sequential(\n",
        "                        nn.Conv2d(32, 64, kernel_size=3, bias=False),\n",
        "                        nn.BatchNorm2d(64, momentum=1, affine=True),\n",
        "                        nn.ReLU(),\n",
        "                        nn.Conv2d(64, 64, kernel_size=3, bias=False),\n",
        "                        nn.BatchNorm2d(64, momentum=1, affine=True),\n",
        "                        nn.ReLU(),\n",
        "                        nn.Conv2d(64, 64, kernel_size=5, stride=2, padding=1, bias=False),\n",
        "                        nn.BatchNorm2d(64, momentum=1, affine=True),\n",
        "                        nn.ReLU(),\n",
        "                        nn.Dropout2d(p=0.4))\n",
        "        self.layer3 = nn.Sequential(\n",
        "                        nn.Conv2d(64, 30, kernel_size=2, bias=False),\n",
        "                        nn.BatchNorm2d(30, momentum=1, affine=True),\n",
        "                        nn.ReLU())\n",
        "\n",
        "    def forward(self,x):\n",
        "        out = self.layer1(x)      # ((28-3+1-3+1)+2*1-5+1)/2 +1= 11*11\n",
        "        out = self.layer2(out)    # ...= 3*3\n",
        "        out = self.layer3(out)    # ...= 2*2\n",
        "        out = out.view(out.size(0),-1)    # batch,120\n",
        "        return out"
      ],
      "metadata": {
        "id": "AgrPghDlQKnN"
      },
      "execution_count": 15,
      "outputs": []
    },
    {
      "cell_type": "code",
      "source": [
        "class CNN_Trainonly(nn.Module):\n",
        "\n",
        "  def __init__(self):\n",
        "    super(CNN_Trainonly, self).__init__()\n",
        "    self.fc1 = nn.Linear(120, 10)\n",
        "\n",
        "\n",
        "  def forward(self, x):\n",
        "    out = self.fc1(x)\n",
        "    return out"
      ],
      "metadata": {
        "id": "5ULOwgu04o58"
      },
      "execution_count": 16,
      "outputs": []
    },
    {
      "cell_type": "code",
      "source": [
        "# 由於Qiskit的設計，超過32qubits的circuit會在內部轉成ndarray時>dim. limit\n",
        "num_qubits = 12\n",
        "reps = 4\n",
        "circuit = EfficientSU2(num_qubits=num_qubits, entanglement='sca', reps=reps, flatten=True)   # 共2*qubit數*(reps+1)個input\n",
        "print(\"parameters in encoder:\",circuit.num_parameters)\n",
        "\n",
        "\n",
        "# 自製的interpret func.,能區分全|0>=last_bit為|1>與其他states的機率\n",
        "#\n",
        "# 轉成000..10的形式，分出|0>較多者\n",
        "def interpret(x):\n",
        "    bit = format(x, '010b')\n",
        "    return int(bit.count(\"0\") > bit.count(\"1\"))\n",
        "\n",
        "output_shape = 2\n",
        "\n",
        "\n",
        "class QuantumRelationNetwork(nn.Module):\n",
        "    def __init__(self, num_qubits, reps):\n",
        "        super(QuantumRelationNetwork, self).__init__()\n",
        "\n",
        "        # 必須重複，否則默認inverse為展示的前者反向(),非一circuit；它會連同input次序也相反\n",
        "        encoder = EfficientSU2(num_qubits=num_qubits, entanglement='sca', parameter_prefix='a', reps=reps, flatten=True)\n",
        "        inverse_encoder =  EfficientSU2(num_qubits=num_qubits, entanglement='sca', reps=reps, parameter_prefix='b', flatten=True).inverse()\n",
        "        qc = QuantumCircuit(num_qubits+1)\n",
        "        qc.compose(encoder, qubits=range(num_qubits) , inplace=True)\n",
        "        qc.compose(inverse_encoder, qubits=range(num_qubits) , inplace=True)\n",
        "\n",
        "        self.Qnn = SamplerQNN(\n",
        "                    circuit=qc,\n",
        "                    input_params=encoder.parameters,\n",
        "                    weight_params=inverse_encoder.parameters,\n",
        "                    interpret=interpret,\n",
        "                    output_shape=output_shape,\n",
        "                    input_gradients=True\n",
        "                    )\n",
        "\n",
        "    def create_module(self, input_weight):\n",
        "        qnn = TorchConnector(self.Qnn, input_weight)\n",
        "        qnn.eval()\n",
        "        return qnn\n",
        "\n",
        "    def forward_qnn(self, qnn, input_data):\n",
        "        result = qnn.forward(input_data)\n",
        "        return result"
      ],
      "metadata": {
        "id": "Angz0a3zQQdw",
        "colab": {
          "base_uri": "https://localhost:8080/"
        },
        "outputId": "74435ed9-76e0-44b9-b830-4f9c28f13607"
      },
      "execution_count": 17,
      "outputs": [
        {
          "output_type": "stream",
          "name": "stdout",
          "text": [
            "parameters in encoder: 120\n"
          ]
        }
      ]
    },
    {
      "cell_type": "code",
      "source": [
        "# Define optimizer, and loss function. Where every fidelity is a posibility i.e. is a multi-label binary class classification\n",
        "lr = 0.001\n",
        "b1 = 0.9\n",
        "b2 = 0.99\n",
        "\n",
        "extract = CNN().to(device)\n",
        "classifier = CNN_Trainonly().to(device)\n",
        "QRN =  QuantumRelationNetwork(num_qubits, reps).to(device)\n",
        "optimizer = optim.NAdam(extract.parameters(), lr=lr, betas=(b1, b2))\n",
        "opt_train = optim.SGD(classifier.parameters(),lr=0.002)\n",
        "loss_func = nn.BCEWithLogitsLoss()"
      ],
      "metadata": {
        "id": "f6Y5mNK5slTp"
      },
      "execution_count": 18,
      "outputs": []
    },
    {
      "cell_type": "markdown",
      "source": [
        "I don't recommend using TorchConnector's backward with a model of this size, as it has many issues and restrictions related to its output size.\n",
        "\n",
        "Besides that, I think QRN did a nice job on training-free classification and flexibility, and has the potential to be used in meta-learning."
      ],
      "metadata": {
        "id": "4Bvc348Su7Yg"
      }
    },
    {
      "cell_type": "code",
      "source": [
        "# Setting\n",
        "epochs = 50\n",
        "loss_list = []\n",
        "global_loss_list = []\n",
        "acc_list = []\n",
        "\n",
        "# Set desired output\n",
        "target = torch.ones(batch_size,1).to(device)\n",
        "\n",
        "for epoch in range(epochs):\n",
        "    # Initialize every epochs\n",
        "    total_loss = []\n",
        "    global_loss = []\n",
        "    correct = 0\n",
        "\n",
        "    # Train (with the best CNN so far)\n",
        "    extract.train()\n",
        "    if epoch > 1:\n",
        "      extract.load_state_dict(torch.load(\"model-CNNinQRN.pt\"))\n",
        "\n",
        "    for _, (data, label_batch) in enumerate(train_loader):\n",
        "        # Initial output\n",
        "        one_hot_target = torch.zeros(batch_size, n_classes)\n",
        "        for i, label in enumerate(label_batch):\n",
        "            one_hot_target[i, label] = 1\n",
        "        one_hot_target = one_hot_target.to(device)\n",
        "\n",
        "        feature_train = extract(data.to(device))\n",
        "        output = classifier(feature_train)\n",
        "        loss = loss_func(output, one_hot_target)\n",
        "        optimizer.zero_grad(set_to_none=True)\n",
        "        opt_train.zero_grad(set_to_none=True)\n",
        "        loss.backward()\n",
        "        opt_train.step()\n",
        "        optimizer.step()\n",
        "        total_loss.append(loss.item())\n",
        "\n",
        "\n",
        "\n",
        "\n",
        "    # Examine model's performance\n",
        "    extract.eval()\n",
        "    for _, (data, label_batch) in enumerate(query_loader):\n",
        "        # initialize\n",
        "        exam = torch.zeros(batch_size, n_classes)\n",
        "\n",
        "        feature_query = extract(data.to(device))\n",
        "\n",
        "        for idx in range(batch_size):\n",
        "            module = QRN.create_module(feature_query[idx,:])\n",
        "\n",
        "            # Combine with 0~9's data, get probabilities\n",
        "            for _ , (image, label) in enumerate(sample_loader):\n",
        "                feature_sample = extract(image.to(device))\n",
        "                value = QRN.forward_qnn(module, feature_sample)\n",
        "                exam[idx, label] = value[:,1]\n",
        "\n",
        "        # Calculate & Record\n",
        "        pred = torch.argmax(exam, dim=1)\n",
        "        correct += (pred == label_batch).sum().item()\n",
        "        wrong_idx = (pred != label_batch).nonzero().squeeze()\n",
        "\n",
        "        # Mark wrong tags\n",
        "        error_list = torch.ones(batch_size, 1)\n",
        "        if wrong_idx.numel() > 0:\n",
        "            error_list[wrong_idx, 0] = 0\n",
        "        error_list = error_list.to(device)\n",
        "        loss = loss_func(error_list, target)\n",
        "        global_loss.append(loss.item())\n",
        "\n",
        "        del module\n",
        "\n",
        "\n",
        "\n",
        "    acc_list.append(100 * correct / (n_query * n_classes))\n",
        "    loss_list.append(sum(total_loss) / len(total_loss))\n",
        "    global_loss_list.append(sum(global_loss) / len(global_loss))\n",
        "\n",
        "    # Save the best parameter set\n",
        "    if global_loss_list[-1] == min(global_loss_list):\n",
        "        torch.save(extract.state_dict(), \"model-CNNinQRN.pt\")\n",
        "\n",
        "    print(\"Training [{:.0f}%]\\tLoss: {:.4f}\\tGlobal Loss: {:.4f}\\tAccuracy: {:.2f}%\".format(\n",
        "        100.0 * (epoch + 1) / epochs, loss_list[-1], global_loss_list[-1],  100 * correct / (n_query * n_classes)))"
      ],
      "metadata": {
        "id": "O6CCu09NsqnP",
        "colab": {
          "base_uri": "https://localhost:8080/"
        },
        "outputId": "d7ddb8de-7af3-4379-b44a-9034b4c4defb"
      },
      "execution_count": 19,
      "outputs": [
        {
          "output_type": "stream",
          "name": "stdout",
          "text": [
            "Training [5%]\tLoss: 0.5610\tGlobal Loss: 0.6362\tAccuracy: 15.00%\n",
            "Training [10%]\tLoss: 0.4345\tGlobal Loss: 0.5944\tAccuracy: 26.00%\n",
            "Training [15%]\tLoss: 0.3857\tGlobal Loss: 0.5678\tAccuracy: 33.00%\n",
            "Training [20%]\tLoss: 0.3491\tGlobal Loss: 0.5602\tAccuracy: 35.00%\n",
            "Training [25%]\tLoss: 0.3185\tGlobal Loss: 0.5412\tAccuracy: 40.00%\n",
            "Training [30%]\tLoss: 0.2948\tGlobal Loss: 0.5374\tAccuracy: 41.00%\n",
            "Training [35%]\tLoss: 0.2736\tGlobal Loss: 0.5070\tAccuracy: 49.00%\n",
            "Training [40%]\tLoss: 0.2469\tGlobal Loss: 0.5222\tAccuracy: 45.00%\n",
            "Training [45%]\tLoss: 0.2408\tGlobal Loss: 0.5298\tAccuracy: 43.00%\n",
            "Training [50%]\tLoss: 0.2372\tGlobal Loss: 0.5260\tAccuracy: 44.00%\n",
            "Training [55%]\tLoss: 0.2321\tGlobal Loss: 0.5298\tAccuracy: 43.00%\n",
            "Training [60%]\tLoss: 0.2290\tGlobal Loss: 0.5412\tAccuracy: 40.00%\n",
            "Training [65%]\tLoss: 0.2258\tGlobal Loss: 0.5374\tAccuracy: 41.00%\n",
            "Training [70%]\tLoss: 0.2222\tGlobal Loss: 0.5032\tAccuracy: 50.00%\n",
            "Training [75%]\tLoss: 0.2089\tGlobal Loss: 0.5412\tAccuracy: 40.00%\n",
            "Training [80%]\tLoss: 0.2025\tGlobal Loss: 0.5298\tAccuracy: 43.00%\n",
            "Training [85%]\tLoss: 0.1960\tGlobal Loss: 0.5564\tAccuracy: 36.00%\n",
            "Training [90%]\tLoss: 0.1954\tGlobal Loss: 0.5526\tAccuracy: 37.00%\n",
            "Training [95%]\tLoss: 0.1950\tGlobal Loss: 0.5260\tAccuracy: 44.00%\n",
            "Training [100%]\tLoss: 0.1945\tGlobal Loss: 0.5222\tAccuracy: 45.00%\n"
          ]
        }
      ]
    },
    {
      "cell_type": "code",
      "source": [
        "# Plot loss & accuracy\n",
        "fig, (loss, ac) = plt.subplots(2, sharex=True, gridspec_kw={'height_ratios': [0.75, 1]}, figsize=(6,4))\n",
        "fig.suptitle('QRN training status')\n",
        "fig.supxlabel('Training step')\n",
        "\n",
        "loss.plot(range(len(loss_list)), loss_list, label=\"Training Loss\")\n",
        "loss.plot(range(len(global_loss_list)), global_loss_list, label=\"Global Loss\", color=\"C3\")\n",
        "loss.legend()\n",
        "loss.set(ylabel='Loss')\n",
        "\n",
        "ac.plot(range(len(acc_list)), acc_list, label=\"Accuracy to Query set\", color=\"C1\")\n",
        "ac.set(ylabel='Accuracy (%)')\n",
        "ac.legend()\n",
        "fig.tight_layout();"
      ],
      "metadata": {
        "id": "bjkuhpituhz-",
        "colab": {
          "base_uri": "https://localhost:8080/",
          "height": 424
        },
        "outputId": "b4f8900d-510a-43be-c107-200e9310351b"
      },
      "execution_count": 20,
      "outputs": [
        {
          "output_type": "display_data",
          "data": {
            "text/plain": [
              "<Figure size 600x400 with 2 Axes>"
            ],
            "image/png": "[encoded data removed]"
          },
          "metadata": {}
        }
      ]
    },
    {
      "cell_type": "code",
      "source": [
        "extract.eval()\n",
        "correct = 0\n",
        "for _, (data, label_batch) in enumerate(test_loader):\n",
        "   # initialize\n",
        "    exam = torch.zeros(batch_size, n_classes)\n",
        "\n",
        "    feature_test = extract(data.to(device))\n",
        "\n",
        "    for idx in range(batch_size):\n",
        "        module = QRN.create_module(feature_test[idx,:])\n",
        "\n",
        "        # Combine with 0~9's data, get probabilities\n",
        "        for _ , (image, label) in enumerate(sample_loader):\n",
        "            feature_sample = extract(image.to(device))\n",
        "            value = QRN.forward_qnn(module, feature_sample)\n",
        "            exam[idx, label] = value[:,1]\n",
        "\n",
        "    # Calculate & Record\n",
        "    pred = torch.argmax(exam, dim=1)\n",
        "    correct += (pred == label_batch).sum().item()\n",
        "\n",
        "print(\"Accuracy to Test set: {:.2f}%\".format(100 * correct / (n_test * n_classes)))"
      ],
      "metadata": {
        "colab": {
          "base_uri": "https://localhost:8080/"
        },
        "id": "4m4RSUt2BJLN",
        "outputId": "da3e3ba1-fd6c-430c-c1ee-192c7bc1ec3b"
      },
      "execution_count": 23,
      "outputs": [
        {
          "output_type": "stream",
          "name": "stdout",
          "text": [
            "Accuracy to Test set: 41.00%\n"
          ]
        }
      ]
    }
  ]
}