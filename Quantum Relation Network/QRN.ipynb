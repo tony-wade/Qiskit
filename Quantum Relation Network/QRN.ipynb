{
  "nbformat": 4,
  "nbformat_minor": 0,
  "metadata": {
    "colab": {
      "provenance": [],
      "gpuType": "T4",
      "authorship_tag": "ABX9TyP+U99xwjOALafniD3PvnLg",
      "include_colab_link": true
    },
    "kernelspec": {
      "name": "python3",
      "display_name": "Python 3"
    },
    "language_info": {
      "name": "python"
    },
    "accelerator": "GPU"
  },
  "cells": [
    {
      "cell_type": "markdown",
      "metadata": {
        "id": "view-in-github",
        "colab_type": "text"
      },
      "source": [
        "<a href=\"https://colab.research.google.com/github/tony-wade/Qiskit/blob/main/Quantum%20Relation%20Network/QRN.ipynb\" target=\"_parent\"><img src=\"https://colab.research.google.com/assets/colab-badge.svg\" alt=\"Open In Colab\"/></a>"
      ]
    },
    {
      "cell_type": "code",
      "execution_count": 1,
      "metadata": {
        "id": "uFqabTSjELi-",
        "colab": {
          "base_uri": "https://localhost:8080/"
        },
        "outputId": "91939791-9d17-41cb-aab7-3a36a503826f"
      },
      "outputs": [
        {
          "output_type": "stream",
          "name": "stdout",
          "text": [
            "Collecting qiskit-machine-learning\n",
            "  Downloading qiskit_machine_learning-0.6.1-py3-none-any.whl (148 kB)\n",
            "\u001b[2K     \u001b[90m━━━━━━━━━━━━━━━━━━━━━━━━━━━━━━━━━━━━━━━\u001b[0m \u001b[32m148.7/148.7 kB\u001b[0m \u001b[31m3.8 MB/s\u001b[0m eta \u001b[36m0:00:00\u001b[0m\n",
            "\u001b[?25hCollecting qiskit-terra>=0.22.2 (from qiskit-machine-learning)\n",
            "  Downloading qiskit_terra-0.25.1-cp38-abi3-manylinux_2_17_x86_64.manylinux2014_x86_64.whl (6.1 MB)\n",
            "\u001b[2K     \u001b[90m━━━━━━━━━━━━━━━━━━━━━━━━━━━━━━━━━━━━━━━━\u001b[0m \u001b[32m6.1/6.1 MB\u001b[0m \u001b[31m21.4 MB/s\u001b[0m eta \u001b[36m0:00:00\u001b[0m\n",
            "\u001b[?25hRequirement already satisfied: scipy>=1.4 in /usr/local/lib/python3.10/dist-packages (from qiskit-machine-learning) (1.11.2)\n",
            "Requirement already satisfied: numpy>=1.17 in /usr/local/lib/python3.10/dist-packages (from qiskit-machine-learning) (1.23.5)\n",
            "Requirement already satisfied: psutil>=5 in /usr/local/lib/python3.10/dist-packages (from qiskit-machine-learning) (5.9.5)\n",
            "Requirement already satisfied: scikit-learn>=0.20.0 in /usr/local/lib/python3.10/dist-packages (from qiskit-machine-learning) (1.2.2)\n",
            "Collecting fastdtw (from qiskit-machine-learning)\n",
            "  Downloading fastdtw-0.3.4.tar.gz (133 kB)\n",
            "\u001b[2K     \u001b[90m━━━━━━━━━━━━━━━━━━━━━━━━━━━━━━━━━━━━━━\u001b[0m \u001b[32m133.4/133.4 kB\u001b[0m \u001b[31m13.6 MB/s\u001b[0m eta \u001b[36m0:00:00\u001b[0m\n",
            "\u001b[?25h  Preparing metadata (setup.py) ... \u001b[?25l\u001b[?25hdone\n",
            "Requirement already satisfied: setuptools>=40.1.0 in /usr/local/lib/python3.10/dist-packages (from qiskit-machine-learning) (67.7.2)\n",
            "Collecting dill>=0.3.4 (from qiskit-machine-learning)\n",
            "  Downloading dill-0.3.7-py3-none-any.whl (115 kB)\n",
            "\u001b[2K     \u001b[90m━━━━━━━━━━━━━━━━━━━━━━━━━━━━━━━━━━━━━━\u001b[0m \u001b[32m115.3/115.3 kB\u001b[0m \u001b[31m12.2 MB/s\u001b[0m eta \u001b[36m0:00:00\u001b[0m\n",
            "\u001b[?25hCollecting rustworkx>=0.13.0 (from qiskit-terra>=0.22.2->qiskit-machine-learning)\n",
            "  Downloading rustworkx-0.13.1-cp310-cp310-manylinux_2_17_x86_64.manylinux2014_x86_64.whl (2.0 MB)\n",
            "\u001b[2K     \u001b[90m━━━━━━━━━━━━━━━━━━━━━━━━━━━━━━━━━━━━━━━━\u001b[0m \u001b[32m2.0/2.0 MB\u001b[0m \u001b[31m36.1 MB/s\u001b[0m eta \u001b[36m0:00:00\u001b[0m\n",
            "\u001b[?25hCollecting ply>=3.10 (from qiskit-terra>=0.22.2->qiskit-machine-learning)\n",
            "  Downloading ply-3.11-py2.py3-none-any.whl (49 kB)\n",
            "\u001b[2K     \u001b[90m━━━━━━━━━━━━━━━━━━━━━━━━━━━━━━━━━━━━━━━━\u001b[0m \u001b[32m49.6/49.6 kB\u001b[0m \u001b[31m4.0 MB/s\u001b[0m eta \u001b[36m0:00:00\u001b[0m\n",
            "\u001b[?25hRequirement already satisfied: sympy>=1.3 in /usr/local/lib/python3.10/dist-packages (from qiskit-terra>=0.22.2->qiskit-machine-learning) (1.12)\n",
            "Requirement already satisfied: python-dateutil>=2.8.0 in /usr/local/lib/python3.10/dist-packages (from qiskit-terra>=0.22.2->qiskit-machine-learning) (2.8.2)\n",
            "Collecting stevedore>=3.0.0 (from qiskit-terra>=0.22.2->qiskit-machine-learning)\n",
            "  Downloading stevedore-5.1.0-py3-none-any.whl (49 kB)\n",
            "\u001b[2K     \u001b[90m━━━━━━━━━━━━━━━━━━━━━━━━━━━━━━━━━━━━━━━━\u001b[0m \u001b[32m49.6/49.6 kB\u001b[0m \u001b[31m5.0 MB/s\u001b[0m eta \u001b[36m0:00:00\u001b[0m\n",
            "\u001b[?25hCollecting symengine<0.10,>=0.9 (from qiskit-terra>=0.22.2->qiskit-machine-learning)\n",
            "  Downloading symengine-0.9.2-cp310-cp310-manylinux2010_x86_64.whl (37.5 MB)\n",
            "\u001b[2K     \u001b[90m━━━━━━━━━━━━━━━━━━━━━━━━━━━━━━━━━━━━━━━━\u001b[0m \u001b[32m37.5/37.5 MB\u001b[0m \u001b[31m12.6 MB/s\u001b[0m eta \u001b[36m0:00:00\u001b[0m\n",
            "\u001b[?25hRequirement already satisfied: typing-extensions in /usr/local/lib/python3.10/dist-packages (from qiskit-terra>=0.22.2->qiskit-machine-learning) (4.5.0)\n",
            "Requirement already satisfied: joblib>=1.1.1 in /usr/local/lib/python3.10/dist-packages (from scikit-learn>=0.20.0->qiskit-machine-learning) (1.3.2)\n",
            "Requirement already satisfied: threadpoolctl>=2.0.0 in /usr/local/lib/python3.10/dist-packages (from scikit-learn>=0.20.0->qiskit-machine-learning) (3.2.0)\n",
            "Requirement already satisfied: six>=1.5 in /usr/local/lib/python3.10/dist-packages (from python-dateutil>=2.8.0->qiskit-terra>=0.22.2->qiskit-machine-learning) (1.16.0)\n",
            "Collecting pbr!=2.1.0,>=2.0.0 (from stevedore>=3.0.0->qiskit-terra>=0.22.2->qiskit-machine-learning)\n",
            "  Downloading pbr-5.11.1-py2.py3-none-any.whl (112 kB)\n",
            "\u001b[2K     \u001b[90m━━━━━━━━━━━━━━━━━━━━━━━━━━━━━━━━━━━━━━━\u001b[0m \u001b[32m112.7/112.7 kB\u001b[0m \u001b[31m6.5 MB/s\u001b[0m eta \u001b[36m0:00:00\u001b[0m\n",
            "\u001b[?25hRequirement already satisfied: mpmath>=0.19 in /usr/local/lib/python3.10/dist-packages (from sympy>=1.3->qiskit-terra>=0.22.2->qiskit-machine-learning) (1.3.0)\n",
            "Building wheels for collected packages: fastdtw\n",
            "  Building wheel for fastdtw (setup.py) ... \u001b[?25l\u001b[?25hdone\n",
            "  Created wheel for fastdtw: filename=fastdtw-0.3.4-cp310-cp310-linux_x86_64.whl size=512707 sha256=42d90d41c380b6baa669f2ba6d101a9b687aaf61083887b18e9fe313ee28472f\n",
            "  Stored in directory: /root/.cache/pip/wheels/73/c8/f7/c25448dab74c3acf4848bc25d513c736bb93910277e1528ef4\n",
            "Successfully built fastdtw\n",
            "Installing collected packages: ply, symengine, rustworkx, pbr, fastdtw, dill, stevedore, qiskit-terra, qiskit-machine-learning\n",
            "Successfully installed dill-0.3.7 fastdtw-0.3.4 pbr-5.11.1 ply-3.11 qiskit-machine-learning-0.6.1 qiskit-terra-0.25.1 rustworkx-0.13.1 stevedore-5.1.0 symengine-0.9.2\n"
          ]
        }
      ],
      "source": [
        "import os\n",
        "import random\n",
        "import numpy as np\n",
        "from PIL import Image,ImageOps\n",
        "import matplotlib.pyplot as plt\n",
        "from torch import Tensor\n",
        "import torch.nn as nn\n",
        "import torch\n",
        "from torch import no_grad\n",
        "from torch.utils.data import DataLoader, Dataset, ConcatDataset\n",
        "from torchvision import datasets, transforms\n",
        "import torch.optim as optim\n",
        "from torch.nn import (\n",
        "    Module,\n",
        "    Conv2d,\n",
        "    Linear,\n",
        "    Dropout2d,\n",
        "    MaxPool2d,\n",
        "    Flatten,\n",
        "    Sequential,\n",
        "    ReLU,\n",
        ")\n",
        "#!pip install qiskit\n",
        "!pip install qiskit-machine-learning\n",
        "from qiskit import QuantumCircuit\n",
        "from qiskit.circuit.library import EfficientSU2\n",
        "from qiskit_machine_learning.neural_networks import SamplerQNN\n",
        "from qiskit_machine_learning.connectors import TorchConnector"
      ]
    },
    {
      "cell_type": "code",
      "source": [
        "device = torch.device('cuda') if torch.cuda.is_available() else torch.device('cpu')\n",
        "torch.set_default_tensor_type('torch.FloatTensor')"
      ],
      "metadata": {
        "id": "-4zoWdsH1UVW"
      },
      "execution_count": 2,
      "outputs": []
    },
    {
      "cell_type": "code",
      "source": [
        "# 定義數據增強\n",
        "transform = transforms.Compose([\n",
        "    transforms.RandomRotation(15),\n",
        "    transforms.RandomAffine(degrees=0, translate=(0.1,0.1), shear=(5,5)),  # 隨機平移、推移\n",
        "    transforms.RandomResizedCrop(size=(28, 28), scale=(0.85, 1.0)),\n",
        "    transforms.ToTensor(),\n",
        "    transforms.Normalize((0.5,), (0.5,))\n",
        "])\n",
        "\n",
        "\n",
        "class CustomMNISTDataset(Dataset):\n",
        "    def __init__(self, root_dir, transform=None):\n",
        "        self.root_dir = root_dir\n",
        "        self.transform = transform\n",
        "        self.image_files = [f for f in os.listdir(root_dir) if f.endswith(\".jpg\")]\n",
        "\n",
        "    def __len__(self):\n",
        "        return len(self.image_files)\n",
        "\n",
        "    def __getitem__(self, idx):\n",
        "        img_name = os.path.join(self.root_dir, self.image_files[idx])\n",
        "        img = Image.open(img_name).convert('L')  # 轉成黑白\n",
        "        image = ImageOps.invert(img)\n",
        "        label = int(self.image_files[idx].split('.')[0])  # 文件名=tag\n",
        "\n",
        "        if self.transform:\n",
        "            image = self.transform(image)\n",
        "\n",
        "        return image, label"
      ],
      "metadata": {
        "id": "3Jd3lImQE0aH"
      },
      "execution_count": 3,
      "outputs": []
    },
    {
      "cell_type": "code",
      "source": [
        "n_classes = 10    # 類別數\n",
        "batch_size = 10\n",
        "num_copies = 30  # 數據增強倍率（每個類別的複製數）\n",
        "n_query = 10   # 每個類別用於測試的樣本數\n",
        "\n",
        "\n",
        "# Sample/Support & Training set\n",
        "#\n",
        "# Sample: 28*28 10 pics(1-shot)\n",
        "sample = CustomMNISTDataset('./selfmnist', transform=transforms.Compose([\n",
        "                                      transforms.ToTensor(),\n",
        "                                      transforms.Normalize((0.5,), (0.5,))\n",
        "                                      ]))\n",
        "\n",
        "# Train：by data aug.\n",
        "custom_dataset = CustomMNISTDataset('./selfmnist', transform=transform)\n",
        "train = [custom_dataset] * num_copies\n",
        "train = ConcatDataset(train)\n",
        "\n",
        "\n",
        "\n",
        "# Query set\n",
        "#\n",
        "# 加載MNIST dataset(28*28),並從每個類別中隨機選取n_query個樣本\n",
        "X_query = datasets.MNIST(root='./data', train=True, transform=transforms.Compose([\n",
        "                                          transforms.ToTensor(),\n",
        "                                          transforms.Normalize((0.5,), (0.5,))\n",
        "                                           ]), download=True)\n",
        "\n",
        "idx = []\n",
        "for digit in range(n_classes):\n",
        "    digit_indices = np.where(X_query.targets == digit)[0]\n",
        "    selected_indices = random.sample(digit_indices.tolist(), n_query)\n",
        "    idx.extend(selected_indices)\n",
        "\n",
        "X_query.data = X_query.data[idx]\n",
        "X_query.targets = X_query.targets[idx]\n",
        "\n",
        "\n",
        "\n",
        "# 定義dataloader\n",
        "#\n",
        "sample_loader = DataLoader(sample, batch_size=1, shuffle=False)\n",
        "train_loader = DataLoader(train, batch_size=batch_size, shuffle=True)\n",
        "query_loader = DataLoader(X_query, batch_size=batch_size, shuffle=True)"
      ],
      "metadata": {
        "id": "rTtkWUCBE3NK"
      },
      "execution_count": null,
      "outputs": []
    },
    {
      "cell_type": "code",
      "source": [
        "class CNN(nn.Module):\n",
        "\n",
        "    def __init__(self):\n",
        "        super(CNN, self).__init__()\n",
        "        self.layer1 = nn.Sequential(\n",
        "                        nn.Conv2d(1, 32, kernel_size=3, bias=False),     # 拆成兩組3*3kernel表現會比一個5*5好,接BN則不需bias\n",
        "                        nn.BatchNorm2d(32, momentum=1, affine=True),    # 縮放/歸一 加速訓練 減少Ocerfitting\n",
        "                        nn.ReLU(),\n",
        "                        nn.Conv2d(32, 32, kernel_size=3, bias=False),\n",
        "                        nn.BatchNorm2d(32, momentum=1, affine=True),\n",
        "                        nn.ReLU(),\n",
        "                        nn.Conv2d(32, 32, kernel_size=5, stride=2, padding=1, bias=False),    # stride=2做出可學習的pooling\n",
        "                        nn.BatchNorm2d(32, momentum=1, affine=True),\n",
        "                        nn.ReLU(),\n",
        "                        nn.Dropout2d(p=0.4))\n",
        "        self.layer2 = nn.Sequential(\n",
        "                        nn.Conv2d(32, 64, kernel_size=3, bias=False),\n",
        "                        nn.BatchNorm2d(64, momentum=1, affine=True),\n",
        "                        nn.ReLU(),\n",
        "                        nn.Conv2d(64, 64, kernel_size=3, bias=False),\n",
        "                        nn.BatchNorm2d(64, momentum=1, affine=True),\n",
        "                        nn.ReLU(),\n",
        "                        nn.Conv2d(64, 64, kernel_size=5, stride=2, padding=1, bias=False),\n",
        "                        nn.BatchNorm2d(64, momentum=1, affine=True),\n",
        "                        nn.ReLU(),\n",
        "                        nn.Dropout2d(p=0.4))\n",
        "        self.layer3 = nn.Sequential(\n",
        "                        nn.Conv2d(64, 30, kernel_size=2, bias=False),\n",
        "                        nn.BatchNorm2d(30, momentum=1, affine=True),\n",
        "                        nn.ReLU())\n",
        "\n",
        "    def forward(self,x):\n",
        "        out = self.layer1(x)      # ((28-3+1-3+1)+2*1-5+1)/2 +1= 11*11\n",
        "        out = self.layer2(out)    # ...= 3*3\n",
        "        out = self.layer3(out)    # ...= 2*2\n",
        "        out = out.view(out.size(0),-1)    # batch,120\n",
        "        return out"
      ],
      "metadata": {
        "id": "AgrPghDlQKnN"
      },
      "execution_count": 5,
      "outputs": []
    },
    {
      "cell_type": "code",
      "source": [
        "class CNN_Trainonly(nn.Module):\n",
        "\n",
        "  def __init__(self):\n",
        "    super(CNN_Trainonly, self).__init__()\n",
        "    self.fc1 = nn.Linear(120, 10)\n",
        "\n",
        "\n",
        "  def forward(self, x):\n",
        "    out = self.fc1(x)\n",
        "    return out"
      ],
      "metadata": {
        "id": "5ULOwgu04o58"
      },
      "execution_count": 6,
      "outputs": []
    },
    {
      "cell_type": "code",
      "source": [
        "# 由於Qiskit的設計，超過32qubits的circuit會在內部轉成ndarray時>dim. limit\n",
        "num_qubits = 12\n",
        "reps = 4\n",
        "circuit = EfficientSU2(num_qubits=num_qubits, entanglement='sca', reps=reps, flatten=True)   # 共2*qubit數*(reps+1)個input\n",
        "print(\"parameters in encoder:\",circuit.num_parameters)\n",
        "\n",
        "\n",
        "# 自製的interpret func.,能區分全|0>=last_bit為|1>與其他states的機率\n",
        "#\n",
        "# 轉成000..10的形式，分出|0>較多者\n",
        "def interpret(x):\n",
        "    bit = format(x, '010b')\n",
        "    return int(bit.count(\"0\") > bit.count(\"1\"))\n",
        "\n",
        "output_shape = 2\n",
        "\n",
        "\n",
        "class QuantumRelationNetwork(nn.Module):\n",
        "    def __init__(self, num_qubits, reps):\n",
        "        super(QuantumRelationNetwork, self).__init__()\n",
        "\n",
        "        # 必須重複，否則默認inverse為展示的前者反向(),非一circuit；它會連同input次序也相反\n",
        "        encoder = EfficientSU2(num_qubits=num_qubits, entanglement='sca', parameter_prefix='a', reps=reps, flatten=True)\n",
        "        inverse_encoder =  EfficientSU2(num_qubits=num_qubits, entanglement='sca', reps=reps, parameter_prefix='b', flatten=True).inverse()\n",
        "        qc = QuantumCircuit(num_qubits+1)\n",
        "        qc.compose(encoder, qubits=range(num_qubits) , inplace=True)\n",
        "        qc.compose(inverse_encoder, qubits=range(num_qubits) , inplace=True)\n",
        "\n",
        "        self.Qnn = SamplerQNN(\n",
        "                    circuit=qc,\n",
        "                    input_params=encoder.parameters,\n",
        "                    weight_params=inverse_encoder.parameters,\n",
        "                    interpret=interpret,\n",
        "                    output_shape=output_shape,\n",
        "                    input_gradients=True\n",
        "                    )\n",
        "\n",
        "    def create_module(self, input_weight):\n",
        "        qnn = TorchConnector(self.Qnn, input_weight)\n",
        "        qnn.eval()\n",
        "        return qnn\n",
        "\n",
        "    def forward_qnn(self, qnn, input_data):\n",
        "        result = qnn.forward(input_data)\n",
        "        return result"
      ],
      "metadata": {
        "id": "Angz0a3zQQdw",
        "colab": {
          "base_uri": "https://localhost:8080/"
        },
        "outputId": "cb0add00-2732-4789-a7ae-c1029c4554c6"
      },
      "execution_count": 7,
      "outputs": [
        {
          "output_type": "stream",
          "name": "stdout",
          "text": [
            "parameters in encoder: 120\n"
          ]
        }
      ]
    },
    {
      "cell_type": "code",
      "source": [
        "# Define optimizer, and loss function. Where every fidelity is a posibility i.e. is a multi-label binary class classification\n",
        "lr = 0.001\n",
        "b1 = 0.9\n",
        "b2 = 0.99\n",
        "\n",
        "extract = CNN().to(device)\n",
        "classifier = CNN_Trainonly().to(device)\n",
        "QRN =  QuantumRelationNetwork(num_qubits, reps).to(device)\n",
        "optimizer = optim.NAdam(extract.parameters(), lr=lr, betas=(b1, b2))\n",
        "opt_train = optim.SGD(classifier.parameters(),lr=lr)\n",
        "loss_func = nn.BCEWithLogitsLoss()"
      ],
      "metadata": {
        "id": "f6Y5mNK5slTp"
      },
      "execution_count": 8,
      "outputs": []
    },
    {
      "cell_type": "code",
      "source": [
        "# Setting\n",
        "epochs = 20\n",
        "loss_list = []\n",
        "global_loss_list = []\n",
        "acc_list = []\n",
        "\n",
        "# Set desired output\n",
        "target = torch.ones(batch_size,1).to(device)\n",
        "\n",
        "for epoch in range(epochs):\n",
        "    # Initialize every epochs\n",
        "    total_loss = []\n",
        "    global_loss = []\n",
        "    correct = 0\n",
        "\n",
        "    # Train (with the best CNN so far)\n",
        "    extract.train()\n",
        "    if epoch > 1:\n",
        "      extract.load_state_dict(torch.load(\"model-CNNinQRN.pt\"))\n",
        "\n",
        "    for _, (data, label_batch) in enumerate(train_loader):\n",
        "        # Initial output\n",
        "        one_hot_target = torch.zeros(batch_size, n_classes)\n",
        "        for i, label in enumerate(label_batch):\n",
        "            one_hot_target[i, label] = 1\n",
        "        one_hot_target = one_hot_target.to(device)\n",
        "\n",
        "\n",
        "        feature_train = extract(data.to(device))\n",
        "        output = classifier(feature_train)\n",
        "\n",
        "        # Train CNN\n",
        "        loss = loss_func(output, one_hot_target)\n",
        "        optimizer.zero_grad(set_to_none=True)\n",
        "        opt_train.zero_grad(set_to_none=True)\n",
        "        loss.backward()\n",
        "        opt_train.step()\n",
        "        optimizer.step()\n",
        "        total_loss.append(loss.item())\n",
        "\n",
        "\n",
        "\n",
        "\n",
        "    # Examine model's performance\n",
        "    extract.eval()\n",
        "    for _, (data, label_batch) in enumerate(query_loader):\n",
        "        # initialize\n",
        "        exam = torch.zeros(batch_size, n_classes)\n",
        "\n",
        "        feature_query = extract(data.to(device))\n",
        "\n",
        "        for idx in range(batch_size):\n",
        "            module = QRN.create_module(feature_query[idx,:])\n",
        "\n",
        "            # Combine with 0~9's data, get probabilities\n",
        "            for _ , (image, label) in enumerate(sample_loader):\n",
        "                feature_sample = extract(image.to(device))\n",
        "                value = QRN.forward_qnn(module, feature_sample)\n",
        "                exam[idx, label] = value[:,1]\n",
        "\n",
        "        # Calculate & Record\n",
        "        pred = torch.argmax(exam, dim=1)\n",
        "        correct += (pred == label_batch).sum().item()\n",
        "        wrong_idx = (pred != label_batch).nonzero().squeeze()\n",
        "\n",
        "        # Mark wrong tags\n",
        "        error_list = torch.ones(batch_size, 1)\n",
        "        if wrong_idx.numel() > 0:\n",
        "            error_list[wrong_idx, 0] = 0\n",
        "        error_list = error_list.to(device)\n",
        "        loss = loss_func(error_list, target)\n",
        "        global_loss.append(loss.item())\n",
        "\n",
        "        del module\n",
        "\n",
        "\n",
        "\n",
        "\n",
        "    acc_list.append(100 * correct / (n_query * n_classes))\n",
        "    loss_list.append(sum(total_loss) / len(total_loss))\n",
        "    global_loss_list.append(sum(global_loss) / len(global_loss))\n",
        "\n",
        "    # Save the best parameter set\n",
        "    if global_loss_list[-1] == min(global_loss_list):\n",
        "        torch.save(extract.state_dict(), \"model-CNNinQRN.pt\")\n",
        "\n",
        "    print(\"Training [{:.0f}%]\\tLoss: {:.4f}\\tGlobal Loss: {:.4f}\\tAccuracy: {:.2f}%\".format(\n",
        "        100.0 * (epoch + 1) / epochs, loss_list[-1], global_loss_list[-1],  100 * correct / (n_query * n_classes)))"
      ],
      "metadata": {
        "id": "O6CCu09NsqnP",
        "colab": {
          "base_uri": "https://localhost:8080/"
        },
        "outputId": "bf1aadde-62f2-4153-e08f-78c35487a0f7"
      },
      "execution_count": 9,
      "outputs": [
        {
          "output_type": "stream",
          "name": "stderr",
          "text": [
            "/usr/local/lib/python3.10/dist-packages/qiskit_machine_learning/connectors/torch_connector.py:312: UserWarning: To copy construct from a tensor, it is recommended to use sourceTensor.clone().detach() or sourceTensor.clone().detach().requires_grad_(True), rather than torch.tensor(sourceTensor).\n",
            "  self._weights.data = torch.tensor(initial_weights, dtype=torch.float)\n"
          ]
        },
        {
          "output_type": "stream",
          "name": "stdout",
          "text": [
            "Training [5%]\tLoss: 0.5651\tGlobal Loss: 0.6210\tAccuracy: 19.00%\n",
            "Training [10%]\tLoss: 0.4480\tGlobal Loss: 0.5678\tAccuracy: 33.00%\n",
            "Training [15%]\tLoss: 0.4090\tGlobal Loss: 0.5412\tAccuracy: 40.00%\n",
            "Training [20%]\tLoss: 0.3745\tGlobal Loss: 0.5526\tAccuracy: 37.00%\n",
            "Training [25%]\tLoss: 0.3695\tGlobal Loss: 0.5678\tAccuracy: 33.00%\n",
            "Training [30%]\tLoss: 0.3598\tGlobal Loss: 0.5716\tAccuracy: 32.00%\n",
            "Training [35%]\tLoss: 0.3529\tGlobal Loss: 0.5260\tAccuracy: 44.00%\n",
            "Training [40%]\tLoss: 0.3238\tGlobal Loss: 0.5336\tAccuracy: 42.00%\n",
            "Training [45%]\tLoss: 0.3175\tGlobal Loss: 0.5450\tAccuracy: 39.00%\n",
            "Training [50%]\tLoss: 0.3105\tGlobal Loss: 0.5564\tAccuracy: 36.00%\n",
            "Training [55%]\tLoss: 0.3053\tGlobal Loss: 0.5488\tAccuracy: 38.00%\n",
            "Training [60%]\tLoss: 0.3020\tGlobal Loss: 0.5412\tAccuracy: 40.00%\n",
            "Training [65%]\tLoss: 0.2994\tGlobal Loss: 0.5754\tAccuracy: 31.00%\n",
            "Training [70%]\tLoss: 0.2965\tGlobal Loss: 0.5488\tAccuracy: 38.00%\n",
            "Training [75%]\tLoss: 0.2934\tGlobal Loss: 0.5298\tAccuracy: 43.00%\n",
            "Training [80%]\tLoss: 0.2926\tGlobal Loss: 0.5412\tAccuracy: 40.00%\n",
            "Training [85%]\tLoss: 0.2885\tGlobal Loss: 0.5526\tAccuracy: 37.00%\n",
            "Training [90%]\tLoss: 0.2828\tGlobal Loss: 0.5298\tAccuracy: 43.00%\n",
            "Training [95%]\tLoss: 0.2813\tGlobal Loss: 0.5564\tAccuracy: 36.00%\n",
            "Training [100%]\tLoss: 0.2798\tGlobal Loss: 0.5526\tAccuracy: 37.00%\n"
          ]
        }
      ]
    },
    {
      "cell_type": "code",
      "source": [
        "# Plot loss & accuracy\n",
        "fig, (loss, ac) = plt.subplots(2, sharex=True, gridspec_kw={'height_ratios': [0.75, 1]}, figsize=(6,4))\n",
        "fig.suptitle('QRN training status')\n",
        "fig.supxlabel('Training step')\n",
        "\n",
        "loss.plot(range(len(loss_list)), loss_list, label=\"Training Loss\")\n",
        "loss.plot(range(len(global_loss_list)), global_loss_list, label=\"Global Loss\", color=\"C3\")\n",
        "loss.legend()\n",
        "loss.set(ylabel='Loss')\n",
        "\n",
        "ac.plot(range(len(acc_list)), acc_list, label=\"Accuracy to Query set\", color=\"C1\")\n",
        "ac.set(ylabel='Accuracy (%)')\n",
        "ac.legend()\n",
        "fig.tight_layout();"
      ],
      "metadata": {
        "id": "bjkuhpituhz-",
        "colab": {
          "base_uri": "https://localhost:8080/",
          "height": 424
        },
        "outputId": "0413738f-95d0-4e05-c91f-a12d0767e8c6"
      },
      "execution_count": 10,
      "outputs": [
        {
          "output_type": "display_data",
          "data": {
            "text/plain": [
              "<Figure size 600x400 with 2 Axes>"
            ],
            "image/png": "[encoded data removed]"
          },
          "metadata": {}
        }
      ]
    }
  ]
}